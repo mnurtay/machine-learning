{
  "nbformat": 4,
  "nbformat_minor": 0,
  "metadata": {
    "colab": {
      "name": "Google_Stock_Price.ipynb",
      "version": "0.3.2",
      "provenance": [],
      "collapsed_sections": []
    },
    "kernelspec": {
      "name": "python3",
      "display_name": "Python 3"
    }
  },
  "cells": [
    {
      "metadata": {
        "id": "DXWMiam1X2z4",
        "colab_type": "code",
        "colab": {}
      },
      "cell_type": "code",
      "source": [
        "import numpy as np\n",
        "import matplotlib.pyplot as plt\n",
        "import pandas as pd"
      ],
      "execution_count": 0,
      "outputs": []
    },
    {
      "metadata": {
        "id": "k58shBtXi3lZ",
        "colab_type": "text"
      },
      "cell_type": "markdown",
      "source": [
        "## Data Processing"
      ]
    },
    {
      "metadata": {
        "id": "S39obmeQZTKl",
        "colab_type": "code",
        "colab": {}
      },
      "cell_type": "code",
      "source": [
        "df_train = pd.read_csv('Google_Stock_Price_Train.csv')"
      ],
      "execution_count": 0,
      "outputs": []
    },
    {
      "metadata": {
        "id": "w436_VW9Zw9f",
        "colab_type": "code",
        "colab": {
          "base_uri": "https://localhost:8080/",
          "height": 204
        },
        "outputId": "6ae3770e-c340-4d54-8dad-00a788d4d30b"
      },
      "cell_type": "code",
      "source": [
        "df_train.head()"
      ],
      "execution_count": 3,
      "outputs": [
        {
          "output_type": "execute_result",
          "data": {
            "text/html": [
              "<div>\n",
              "<style scoped>\n",
              "    .dataframe tbody tr th:only-of-type {\n",
              "        vertical-align: middle;\n",
              "    }\n",
              "\n",
              "    .dataframe tbody tr th {\n",
              "        vertical-align: top;\n",
              "    }\n",
              "\n",
              "    .dataframe thead th {\n",
              "        text-align: right;\n",
              "    }\n",
              "</style>\n",
              "<table border=\"1\" class=\"dataframe\">\n",
              "  <thead>\n",
              "    <tr style=\"text-align: right;\">\n",
              "      <th></th>\n",
              "      <th>Date</th>\n",
              "      <th>Open</th>\n",
              "      <th>High</th>\n",
              "      <th>Low</th>\n",
              "      <th>Close</th>\n",
              "      <th>Volume</th>\n",
              "    </tr>\n",
              "  </thead>\n",
              "  <tbody>\n",
              "    <tr>\n",
              "      <th>0</th>\n",
              "      <td>1/3/2012</td>\n",
              "      <td>325.25</td>\n",
              "      <td>332.83</td>\n",
              "      <td>324.97</td>\n",
              "      <td>663.59</td>\n",
              "      <td>7,380,500</td>\n",
              "    </tr>\n",
              "    <tr>\n",
              "      <th>1</th>\n",
              "      <td>1/4/2012</td>\n",
              "      <td>331.27</td>\n",
              "      <td>333.87</td>\n",
              "      <td>329.08</td>\n",
              "      <td>666.45</td>\n",
              "      <td>5,749,400</td>\n",
              "    </tr>\n",
              "    <tr>\n",
              "      <th>2</th>\n",
              "      <td>1/5/2012</td>\n",
              "      <td>329.83</td>\n",
              "      <td>330.75</td>\n",
              "      <td>326.89</td>\n",
              "      <td>657.21</td>\n",
              "      <td>6,590,300</td>\n",
              "    </tr>\n",
              "    <tr>\n",
              "      <th>3</th>\n",
              "      <td>1/6/2012</td>\n",
              "      <td>328.34</td>\n",
              "      <td>328.77</td>\n",
              "      <td>323.68</td>\n",
              "      <td>648.24</td>\n",
              "      <td>5,405,900</td>\n",
              "    </tr>\n",
              "    <tr>\n",
              "      <th>4</th>\n",
              "      <td>1/9/2012</td>\n",
              "      <td>322.04</td>\n",
              "      <td>322.29</td>\n",
              "      <td>309.46</td>\n",
              "      <td>620.76</td>\n",
              "      <td>11,688,800</td>\n",
              "    </tr>\n",
              "  </tbody>\n",
              "</table>\n",
              "</div>"
            ],
            "text/plain": [
              "       Date    Open    High     Low   Close      Volume\n",
              "0  1/3/2012  325.25  332.83  324.97  663.59   7,380,500\n",
              "1  1/4/2012  331.27  333.87  329.08  666.45   5,749,400\n",
              "2  1/5/2012  329.83  330.75  326.89  657.21   6,590,300\n",
              "3  1/6/2012  328.34  328.77  323.68  648.24   5,405,900\n",
              "4  1/9/2012  322.04  322.29  309.46  620.76  11,688,800"
            ]
          },
          "metadata": {
            "tags": []
          },
          "execution_count": 3
        }
      ]
    },
    {
      "metadata": {
        "id": "20pgGWwWavE8",
        "colab_type": "code",
        "colab": {}
      },
      "cell_type": "code",
      "source": [
        "train_set = df_train.iloc[:, 1:2].values"
      ],
      "execution_count": 0,
      "outputs": []
    },
    {
      "metadata": {
        "id": "mZoCum6ma6cG",
        "colab_type": "code",
        "colab": {
          "base_uri": "https://localhost:8080/",
          "height": 34
        },
        "outputId": "2d610c14-10d5-4538-bc39-8cd7026dd7a8"
      },
      "cell_type": "code",
      "source": [
        "train_set.shape"
      ],
      "execution_count": 5,
      "outputs": [
        {
          "output_type": "execute_result",
          "data": {
            "text/plain": [
              "(1258, 1)"
            ]
          },
          "metadata": {
            "tags": []
          },
          "execution_count": 5
        }
      ]
    },
    {
      "metadata": {
        "id": "gMZgxCxEa94H",
        "colab_type": "code",
        "colab": {
          "base_uri": "https://localhost:8080/",
          "height": 102
        },
        "outputId": "2b4c7035-a7f0-44f0-c82e-8275b487d94c"
      },
      "cell_type": "code",
      "source": [
        "train_set[:5]"
      ],
      "execution_count": 7,
      "outputs": [
        {
          "output_type": "execute_result",
          "data": {
            "text/plain": [
              "array([[325.25],\n",
              "       [331.27],\n",
              "       [329.83],\n",
              "       [328.34],\n",
              "       [322.04]])"
            ]
          },
          "metadata": {
            "tags": []
          },
          "execution_count": 7
        }
      ]
    },
    {
      "metadata": {
        "id": "4BsQk3kZbFZ3",
        "colab_type": "code",
        "colab": {}
      },
      "cell_type": "code",
      "source": [
        "from sklearn.preprocessing import MinMaxScaler\n",
        "minmax_sc = MinMaxScaler(feature_range=(0,1))\n",
        "training_set_scaled = minmax_sc.fit_transform(train_set)"
      ],
      "execution_count": 0,
      "outputs": []
    },
    {
      "metadata": {
        "id": "7XTMMlEublS-",
        "colab_type": "code",
        "colab": {
          "base_uri": "https://localhost:8080/",
          "height": 136
        },
        "outputId": "2f67e594-7de4-47c4-cb09-42d482242921"
      },
      "cell_type": "code",
      "source": [
        "training_set_scaled"
      ],
      "execution_count": 11,
      "outputs": [
        {
          "output_type": "execute_result",
          "data": {
            "text/plain": [
              "array([[0.08581368],\n",
              "       [0.09701243],\n",
              "       [0.09433366],\n",
              "       ...,\n",
              "       [0.95725128],\n",
              "       [0.93796041],\n",
              "       [0.93688146]])"
            ]
          },
          "metadata": {
            "tags": []
          },
          "execution_count": 11
        }
      ]
    },
    {
      "metadata": {
        "id": "SfLSb4U6fR1j",
        "colab_type": "code",
        "colab": {}
      },
      "cell_type": "code",
      "source": [
        "X_train = []\n",
        "y_train = []\n",
        "for i in range(60,1258):\n",
        "  X_train.append(training_set_scaled[i-60:i, 0])\n",
        "  y_train.append(training_set_scaled[i,0])"
      ],
      "execution_count": 0,
      "outputs": []
    },
    {
      "metadata": {
        "id": "MCTx8Jk3gKj8",
        "colab_type": "code",
        "colab": {
          "base_uri": "https://localhost:8080/",
          "height": 34
        },
        "outputId": "7de0fc50-afa8-4c74-b7a4-4da61b908e90"
      },
      "cell_type": "code",
      "source": [
        "print(\"LENGTH OF x_train:\",len(X_train),\", y_train\",len(y_train))"
      ],
      "execution_count": 16,
      "outputs": [
        {
          "output_type": "stream",
          "text": [
            "LENGTH OF x_train: 1198 , y_train 1198\n"
          ],
          "name": "stdout"
        }
      ]
    },
    {
      "metadata": {
        "id": "TZQcs2EKgax9",
        "colab_type": "code",
        "colab": {
          "base_uri": "https://localhost:8080/",
          "height": 425
        },
        "outputId": "fe3248e0-73dc-4630-c902-155353516d77"
      },
      "cell_type": "code",
      "source": [
        "X_train[:2]"
      ],
      "execution_count": 19,
      "outputs": [
        {
          "output_type": "execute_result",
          "data": {
            "text/plain": [
              "[array([0.08581368, 0.09701243, 0.09433366, 0.09156187, 0.07984225,\n",
              "        0.0643277 , 0.0585423 , 0.06568569, 0.06109085, 0.06639259,\n",
              "        0.0614257 , 0.07474514, 0.02797827, 0.02379269, 0.02409033,\n",
              "        0.0159238 , 0.01078949, 0.00967334, 0.01642607, 0.02100231,\n",
              "        0.02280676, 0.02273235, 0.02810849, 0.03212665, 0.0433812 ,\n",
              "        0.04475779, 0.04790163, 0.0440695 , 0.04648783, 0.04745517,\n",
              "        0.04873875, 0.03936305, 0.04137213, 0.04034898, 0.04784582,\n",
              "        0.04325099, 0.04356723, 0.04286033, 0.04602277, 0.05398467,\n",
              "        0.05738894, 0.05714711, 0.05569611, 0.04421832, 0.04514845,\n",
              "        0.04605997, 0.04412531, 0.03675869, 0.04486941, 0.05065481,\n",
              "        0.05214302, 0.05612397, 0.05818885, 0.06540665, 0.06882953,\n",
              "        0.07243843, 0.07993526, 0.07846566, 0.08034452, 0.08497656]),\n",
              " array([0.09701243, 0.09433366, 0.09156187, 0.07984225, 0.0643277 ,\n",
              "        0.0585423 , 0.06568569, 0.06109085, 0.06639259, 0.0614257 ,\n",
              "        0.07474514, 0.02797827, 0.02379269, 0.02409033, 0.0159238 ,\n",
              "        0.01078949, 0.00967334, 0.01642607, 0.02100231, 0.02280676,\n",
              "        0.02273235, 0.02810849, 0.03212665, 0.0433812 , 0.04475779,\n",
              "        0.04790163, 0.0440695 , 0.04648783, 0.04745517, 0.04873875,\n",
              "        0.03936305, 0.04137213, 0.04034898, 0.04784582, 0.04325099,\n",
              "        0.04356723, 0.04286033, 0.04602277, 0.05398467, 0.05738894,\n",
              "        0.05714711, 0.05569611, 0.04421832, 0.04514845, 0.04605997,\n",
              "        0.04412531, 0.03675869, 0.04486941, 0.05065481, 0.05214302,\n",
              "        0.05612397, 0.05818885, 0.06540665, 0.06882953, 0.07243843,\n",
              "        0.07993526, 0.07846566, 0.08034452, 0.08497656, 0.08627874])]"
            ]
          },
          "metadata": {
            "tags": []
          },
          "execution_count": 19
        }
      ]
    },
    {
      "metadata": {
        "id": "R8RfNyLcgv-c",
        "colab_type": "code",
        "colab": {}
      },
      "cell_type": "code",
      "source": [
        "X_train, y_train = np.array(X_train), np.array(y_train)"
      ],
      "execution_count": 0,
      "outputs": []
    },
    {
      "metadata": {
        "id": "2Dyq2E95iFPA",
        "colab_type": "code",
        "colab": {
          "base_uri": "https://localhost:8080/",
          "height": 238
        },
        "outputId": "f37ed599-f0ac-4488-ee9d-d5fca2d821a1"
      },
      "cell_type": "code",
      "source": [
        "X_train"
      ],
      "execution_count": 21,
      "outputs": [
        {
          "output_type": "execute_result",
          "data": {
            "text/plain": [
              "array([[0.08581368, 0.09701243, 0.09433366, ..., 0.07846566, 0.08034452,\n",
              "        0.08497656],\n",
              "       [0.09701243, 0.09433366, 0.09156187, ..., 0.08034452, 0.08497656,\n",
              "        0.08627874],\n",
              "       [0.09433366, 0.09156187, 0.07984225, ..., 0.08497656, 0.08627874,\n",
              "        0.08471612],\n",
              "       ...,\n",
              "       [0.92106928, 0.92438053, 0.93048218, ..., 0.95475854, 0.95204256,\n",
              "        0.95163331],\n",
              "       [0.92438053, 0.93048218, 0.9299055 , ..., 0.95204256, 0.95163331,\n",
              "        0.95725128],\n",
              "       [0.93048218, 0.9299055 , 0.93113327, ..., 0.95163331, 0.95725128,\n",
              "        0.93796041]])"
            ]
          },
          "metadata": {
            "tags": []
          },
          "execution_count": 21
        }
      ]
    },
    {
      "metadata": {
        "id": "TSUpLR3NiYPu",
        "colab_type": "code",
        "colab": {
          "base_uri": "https://localhost:8080/",
          "height": 51
        },
        "outputId": "a2063871-11cb-4740-8897-4effa2a0d5ca"
      },
      "cell_type": "code",
      "source": [
        "y_train"
      ],
      "execution_count": 22,
      "outputs": [
        {
          "output_type": "execute_result",
          "data": {
            "text/plain": [
              "array([0.08627874, 0.08471612, 0.07454052, ..., 0.95725128, 0.93796041,\n",
              "       0.93688146])"
            ]
          },
          "metadata": {
            "tags": []
          },
          "execution_count": 22
        }
      ]
    },
    {
      "metadata": {
        "id": "EkFggMb1iajm",
        "colab_type": "code",
        "colab": {
          "base_uri": "https://localhost:8080/",
          "height": 34
        },
        "outputId": "2d98610a-ddc9-4f12-813a-9a4d970590ec"
      },
      "cell_type": "code",
      "source": [
        "print(X_train.shape, y_train.shape)"
      ],
      "execution_count": 23,
      "outputs": [
        {
          "output_type": "stream",
          "text": [
            "(1198, 60) (1198,)\n"
          ],
          "name": "stdout"
        }
      ]
    },
    {
      "metadata": {
        "id": "K4FXTMdujBdO",
        "colab_type": "text"
      },
      "cell_type": "markdown",
      "source": [
        "## Reshaping"
      ]
    },
    {
      "metadata": {
        "id": "kPEvPy5JjEF5",
        "colab_type": "code",
        "colab": {}
      },
      "cell_type": "code",
      "source": [
        "X_train = np.reshape(X_train, (X_train.shape[0], X_train.shape[1], 1))"
      ],
      "execution_count": 0,
      "outputs": []
    },
    {
      "metadata": {
        "id": "b3gYqoFZjSZa",
        "colab_type": "code",
        "colab": {
          "base_uri": "https://localhost:8080/",
          "height": 34
        },
        "outputId": "c419f81c-6cff-447f-80c4-dcc696435c72"
      },
      "cell_type": "code",
      "source": [
        "X_train.shape"
      ],
      "execution_count": 25,
      "outputs": [
        {
          "output_type": "execute_result",
          "data": {
            "text/plain": [
              "(1198, 60, 1)"
            ]
          },
          "metadata": {
            "tags": []
          },
          "execution_count": 25
        }
      ]
    },
    {
      "metadata": {
        "id": "fcl8zFlNjx4L",
        "colab_type": "text"
      },
      "cell_type": "markdown",
      "source": [
        "## Building the RNN"
      ]
    },
    {
      "metadata": {
        "id": "49IiZxZXjsF5",
        "colab_type": "code",
        "colab": {}
      },
      "cell_type": "code",
      "source": [
        "from keras.models import Sequential\n",
        "from keras.layers import Dense, LSTM, Dropout"
      ],
      "execution_count": 0,
      "outputs": []
    },
    {
      "metadata": {
        "id": "CWxsUl9WkGgU",
        "colab_type": "code",
        "colab": {}
      },
      "cell_type": "code",
      "source": [
        "regressor = Sequential()"
      ],
      "execution_count": 0,
      "outputs": []
    },
    {
      "metadata": {
        "id": "kJdjpmXBkLiy",
        "colab_type": "code",
        "colab": {}
      },
      "cell_type": "code",
      "source": [
        "N = 50\n",
        "regressor.add(LSTM(units=N, return_sequences=True, input_shape=(X_train.shape[1],1)))\n",
        "regressor.add(Dropout(0.2))"
      ],
      "execution_count": 0,
      "outputs": []
    },
    {
      "metadata": {
        "id": "-H1A9pnglZNB",
        "colab_type": "code",
        "colab": {}
      },
      "cell_type": "code",
      "source": [
        "regressor.add(LSTM(units=N, return_sequences=True))\n",
        "regressor.add(Dropout(0.2))"
      ],
      "execution_count": 0,
      "outputs": []
    },
    {
      "metadata": {
        "id": "ogPZSwQomLxy",
        "colab_type": "code",
        "colab": {}
      },
      "cell_type": "code",
      "source": [
        "regressor.add(LSTM(units=N, return_sequences=True))\n",
        "regressor.add(Dropout(0.2))"
      ],
      "execution_count": 0,
      "outputs": []
    },
    {
      "metadata": {
        "id": "oYHcX9sfxP8O",
        "colab_type": "code",
        "colab": {}
      },
      "cell_type": "code",
      "source": [
        "regressor.add(LSTM(units=N))\n",
        "regressor.add(Dropout(0.2))"
      ],
      "execution_count": 0,
      "outputs": []
    },
    {
      "metadata": {
        "id": "X-Vs4UqGxa5m",
        "colab_type": "code",
        "colab": {}
      },
      "cell_type": "code",
      "source": [
        "regressor.add(Dense(units=1))\n",
        "regressor.compile(optimizer='adam', loss='mean_squared_error')"
      ],
      "execution_count": 0,
      "outputs": []
    },
    {
      "metadata": {
        "id": "hAdbVL-9xzU5",
        "colab_type": "code",
        "colab": {
          "base_uri": "https://localhost:8080/",
          "height": 3505
        },
        "outputId": "185e5c2c-e6ed-458f-962a-b074cda0b05d"
      },
      "cell_type": "code",
      "source": [
        "regressor.fit(X_train, y_train, epochs=100, batch_size=32)"
      ],
      "execution_count": 37,
      "outputs": [
        {
          "output_type": "stream",
          "text": [
            "WARNING:tensorflow:From /usr/local/lib/python3.6/dist-packages/tensorflow/python/ops/math_ops.py:3066: to_int32 (from tensorflow.python.ops.math_ops) is deprecated and will be removed in a future version.\n",
            "Instructions for updating:\n",
            "Use tf.cast instead.\n",
            "Epoch 1/100\n",
            "1198/1198 [==============================] - 15s 13ms/step - loss: 0.0547\n",
            "Epoch 2/100\n",
            "1198/1198 [==============================] - 9s 8ms/step - loss: 0.0068\n",
            "Epoch 3/100\n",
            "1198/1198 [==============================] - 10s 8ms/step - loss: 0.0069\n",
            "Epoch 4/100\n",
            "1198/1198 [==============================] - 9s 8ms/step - loss: 0.0060\n",
            "Epoch 5/100\n",
            "1198/1198 [==============================] - 9s 8ms/step - loss: 0.0055\n",
            "Epoch 6/100\n",
            "1198/1198 [==============================] - 9s 8ms/step - loss: 0.0056\n",
            "Epoch 7/100\n",
            "1198/1198 [==============================] - 9s 8ms/step - loss: 0.0055\n",
            "Epoch 8/100\n",
            "1198/1198 [==============================] - 9s 8ms/step - loss: 0.0048\n",
            "Epoch 9/100\n",
            "1198/1198 [==============================] - 9s 8ms/step - loss: 0.0049\n",
            "Epoch 10/100\n",
            "1198/1198 [==============================] - 9s 8ms/step - loss: 0.0045\n",
            "Epoch 11/100\n",
            "1198/1198 [==============================] - 9s 8ms/step - loss: 0.0055\n",
            "Epoch 12/100\n",
            "1198/1198 [==============================] - 9s 8ms/step - loss: 0.0047\n",
            "Epoch 13/100\n",
            "1198/1198 [==============================] - 9s 8ms/step - loss: 0.0039\n",
            "Epoch 14/100\n",
            "1198/1198 [==============================] - 9s 8ms/step - loss: 0.0040\n",
            "Epoch 15/100\n",
            "1198/1198 [==============================] - 9s 8ms/step - loss: 0.0040\n",
            "Epoch 16/100\n",
            "1198/1198 [==============================] - 9s 8ms/step - loss: 0.0039\n",
            "Epoch 17/100\n",
            "1198/1198 [==============================] - 9s 8ms/step - loss: 0.0040\n",
            "Epoch 18/100\n",
            "1198/1198 [==============================] - 9s 8ms/step - loss: 0.0041\n",
            "Epoch 19/100\n",
            "1198/1198 [==============================] - 9s 8ms/step - loss: 0.0036\n",
            "Epoch 20/100\n",
            "1198/1198 [==============================] - 9s 8ms/step - loss: 0.0035\n",
            "Epoch 21/100\n",
            "1198/1198 [==============================] - 9s 8ms/step - loss: 0.0035\n",
            "Epoch 22/100\n",
            "1198/1198 [==============================] - 9s 8ms/step - loss: 0.0042\n",
            "Epoch 23/100\n",
            "1198/1198 [==============================] - 9s 8ms/step - loss: 0.0033\n",
            "Epoch 24/100\n",
            "1198/1198 [==============================] - 9s 8ms/step - loss: 0.0032\n",
            "Epoch 25/100\n",
            "1198/1198 [==============================] - 9s 8ms/step - loss: 0.0032\n",
            "Epoch 26/100\n",
            "1198/1198 [==============================] - 9s 8ms/step - loss: 0.0033\n",
            "Epoch 27/100\n",
            "1198/1198 [==============================] - 10s 8ms/step - loss: 0.0033\n",
            "Epoch 28/100\n",
            "1198/1198 [==============================] - 9s 8ms/step - loss: 0.0030\n",
            "Epoch 29/100\n",
            "1198/1198 [==============================] - 9s 8ms/step - loss: 0.0032\n",
            "Epoch 30/100\n",
            "1198/1198 [==============================] - 10s 8ms/step - loss: 0.0029\n",
            "Epoch 31/100\n",
            "1198/1198 [==============================] - 9s 8ms/step - loss: 0.0028\n",
            "Epoch 32/100\n",
            "1198/1198 [==============================] - 10s 8ms/step - loss: 0.0028\n",
            "Epoch 33/100\n",
            "1198/1198 [==============================] - 10s 8ms/step - loss: 0.0035\n",
            "Epoch 34/100\n",
            "1198/1198 [==============================] - 10s 8ms/step - loss: 0.0034\n",
            "Epoch 35/100\n",
            "1198/1198 [==============================] - 10s 8ms/step - loss: 0.0028\n",
            "Epoch 36/100\n",
            "1198/1198 [==============================] - 9s 8ms/step - loss: 0.0026\n",
            "Epoch 37/100\n",
            "1198/1198 [==============================] - 9s 8ms/step - loss: 0.0026\n",
            "Epoch 38/100\n",
            "1198/1198 [==============================] - 9s 8ms/step - loss: 0.0026\n",
            "Epoch 39/100\n",
            "1198/1198 [==============================] - 9s 8ms/step - loss: 0.0025\n",
            "Epoch 40/100\n",
            "1198/1198 [==============================] - 9s 8ms/step - loss: 0.0024\n",
            "Epoch 41/100\n",
            "1198/1198 [==============================] - 9s 8ms/step - loss: 0.0024\n",
            "Epoch 42/100\n",
            "1198/1198 [==============================] - 9s 8ms/step - loss: 0.0031\n",
            "Epoch 43/100\n",
            "1198/1198 [==============================] - 9s 8ms/step - loss: 0.0025\n",
            "Epoch 44/100\n",
            "1198/1198 [==============================] - 9s 8ms/step - loss: 0.0028\n",
            "Epoch 45/100\n",
            "1198/1198 [==============================] - 9s 8ms/step - loss: 0.0022\n",
            "Epoch 46/100\n",
            "1198/1198 [==============================] - 9s 8ms/step - loss: 0.0024\n",
            "Epoch 47/100\n",
            "1198/1198 [==============================] - 9s 8ms/step - loss: 0.0022\n",
            "Epoch 48/100\n",
            "1198/1198 [==============================] - 9s 8ms/step - loss: 0.0023\n",
            "Epoch 49/100\n",
            "1198/1198 [==============================] - 9s 8ms/step - loss: 0.0020\n",
            "Epoch 50/100\n",
            "1198/1198 [==============================] - 9s 8ms/step - loss: 0.0022\n",
            "Epoch 51/100\n",
            "1198/1198 [==============================] - 9s 8ms/step - loss: 0.0021\n",
            "Epoch 52/100\n",
            "1198/1198 [==============================] - 9s 8ms/step - loss: 0.0022\n",
            "Epoch 53/100\n",
            "1198/1198 [==============================] - 9s 8ms/step - loss: 0.0021\n",
            "Epoch 54/100\n",
            "1198/1198 [==============================] - 10s 8ms/step - loss: 0.0021\n",
            "Epoch 55/100\n",
            "1198/1198 [==============================] - 10s 8ms/step - loss: 0.0020\n",
            "Epoch 56/100\n",
            "1198/1198 [==============================] - 10s 8ms/step - loss: 0.0019\n",
            "Epoch 57/100\n",
            "1198/1198 [==============================] - 10s 8ms/step - loss: 0.0019\n",
            "Epoch 58/100\n",
            "1198/1198 [==============================] - 9s 8ms/step - loss: 0.0021\n",
            "Epoch 59/100\n",
            "1198/1198 [==============================] - 9s 8ms/step - loss: 0.0019\n",
            "Epoch 60/100\n",
            "1198/1198 [==============================] - 10s 8ms/step - loss: 0.0020\n",
            "Epoch 61/100\n",
            "1198/1198 [==============================] - 9s 8ms/step - loss: 0.0019\n",
            "Epoch 62/100\n",
            "1198/1198 [==============================] - 10s 8ms/step - loss: 0.0018\n",
            "Epoch 63/100\n",
            "1198/1198 [==============================] - 10s 8ms/step - loss: 0.0019\n",
            "Epoch 64/100\n",
            "1198/1198 [==============================] - 10s 8ms/step - loss: 0.0019\n",
            "Epoch 65/100\n",
            "1198/1198 [==============================] - 10s 8ms/step - loss: 0.0019\n",
            "Epoch 66/100\n",
            "1198/1198 [==============================] - 10s 8ms/step - loss: 0.0020\n",
            "Epoch 67/100\n",
            "1198/1198 [==============================] - 10s 8ms/step - loss: 0.0020\n",
            "Epoch 68/100\n",
            "1198/1198 [==============================] - 10s 8ms/step - loss: 0.0017\n",
            "Epoch 69/100\n",
            "1198/1198 [==============================] - 10s 8ms/step - loss: 0.0017\n",
            "Epoch 70/100\n",
            "1198/1198 [==============================] - 9s 8ms/step - loss: 0.0017\n",
            "Epoch 71/100\n",
            "1198/1198 [==============================] - 9s 8ms/step - loss: 0.0017\n",
            "Epoch 72/100\n",
            "1198/1198 [==============================] - 9s 8ms/step - loss: 0.0017\n",
            "Epoch 73/100\n",
            "1198/1198 [==============================] - 10s 8ms/step - loss: 0.0019\n",
            "Epoch 74/100\n",
            "1198/1198 [==============================] - 9s 8ms/step - loss: 0.0016\n",
            "Epoch 75/100\n",
            "1198/1198 [==============================] - 9s 8ms/step - loss: 0.0017\n",
            "Epoch 76/100\n",
            "1198/1198 [==============================] - 9s 8ms/step - loss: 0.0017\n",
            "Epoch 77/100\n",
            "1198/1198 [==============================] - 10s 8ms/step - loss: 0.0017\n",
            "Epoch 78/100\n",
            "1198/1198 [==============================] - 10s 8ms/step - loss: 0.0016\n",
            "Epoch 79/100\n",
            "1198/1198 [==============================] - 9s 8ms/step - loss: 0.0016\n",
            "Epoch 80/100\n",
            "1198/1198 [==============================] - 10s 8ms/step - loss: 0.0017\n",
            "Epoch 81/100\n",
            "1198/1198 [==============================] - 10s 8ms/step - loss: 0.0014\n",
            "Epoch 82/100\n",
            "1198/1198 [==============================] - 9s 8ms/step - loss: 0.0016\n",
            "Epoch 83/100\n",
            "1198/1198 [==============================] - 9s 8ms/step - loss: 0.0017\n",
            "Epoch 84/100\n",
            "1198/1198 [==============================] - 9s 8ms/step - loss: 0.0019\n",
            "Epoch 85/100\n",
            "1198/1198 [==============================] - 9s 8ms/step - loss: 0.0014\n",
            "Epoch 86/100\n",
            "1198/1198 [==============================] - 9s 8ms/step - loss: 0.0015\n",
            "Epoch 87/100\n",
            "1198/1198 [==============================] - 9s 8ms/step - loss: 0.0014\n",
            "Epoch 88/100\n",
            "1198/1198 [==============================] - 9s 8ms/step - loss: 0.0015\n",
            "Epoch 89/100\n",
            "1198/1198 [==============================] - 10s 8ms/step - loss: 0.0015\n",
            "Epoch 90/100\n",
            "1198/1198 [==============================] - 10s 8ms/step - loss: 0.0014\n",
            "Epoch 91/100\n",
            "1198/1198 [==============================] - 9s 8ms/step - loss: 0.0015\n",
            "Epoch 92/100\n",
            "1198/1198 [==============================] - 10s 8ms/step - loss: 0.0014\n",
            "Epoch 93/100\n",
            "1198/1198 [==============================] - 9s 8ms/step - loss: 0.0016\n",
            "Epoch 94/100\n",
            "1198/1198 [==============================] - 10s 8ms/step - loss: 0.0015\n",
            "Epoch 95/100\n",
            "1198/1198 [==============================] - 10s 8ms/step - loss: 0.0016\n",
            "Epoch 96/100\n",
            "1198/1198 [==============================] - 9s 8ms/step - loss: 0.0016\n",
            "Epoch 97/100\n",
            "1198/1198 [==============================] - 10s 8ms/step - loss: 0.0016\n",
            "Epoch 98/100\n",
            "1198/1198 [==============================] - 10s 8ms/step - loss: 0.0016\n",
            "Epoch 99/100\n",
            "1198/1198 [==============================] - 9s 8ms/step - loss: 0.0016\n",
            "Epoch 100/100\n",
            "1198/1198 [==============================] - 9s 8ms/step - loss: 0.0015\n"
          ],
          "name": "stdout"
        },
        {
          "output_type": "execute_result",
          "data": {
            "text/plain": [
              "<keras.callbacks.History at 0x7f296c05e518>"
            ]
          },
          "metadata": {
            "tags": []
          },
          "execution_count": 37
        }
      ]
    },
    {
      "metadata": {
        "id": "chqTH88SyBLp",
        "colab_type": "code",
        "colab": {
          "base_uri": "https://localhost:8080/",
          "height": 361
        },
        "outputId": "6ebe1ffc-5b06-4955-8fe0-dfa01535d55e"
      },
      "cell_type": "code",
      "source": [
        "plt.plot(regressor.history.epoch, regressor.history.history['loss'])\n",
        "plt.xlabel('epoch')\n",
        "plt.ylabel('loss')\n",
        "plt.show()"
      ],
      "execution_count": 39,
      "outputs": [
        {
          "output_type": "display_data",
          "data": {
            "image/png": "[encoded data removed]",
            "text/plain": [
              "<Figure size 576x396 with 1 Axes>"
            ]
          },
          "metadata": {
            "tags": []
          }
        }
      ]
    },
    {
      "metadata": {
        "id": "I8bVaB8J4uWW",
        "colab_type": "text"
      },
      "cell_type": "markdown",
      "source": [
        "## Making prediction"
      ]
    },
    {
      "metadata": {
        "id": "jm-8EYdK37bb",
        "colab_type": "code",
        "colab": {}
      },
      "cell_type": "code",
      "source": [
        "df_test = pd.read_csv('Google_Stock_Price_Test.csv')"
      ],
      "execution_count": 0,
      "outputs": []
    },
    {
      "metadata": {
        "id": "aY-bH_eJ44p1",
        "colab_type": "code",
        "colab": {
          "base_uri": "https://localhost:8080/",
          "height": 204
        },
        "outputId": "d3e82687-6b2d-4e93-a7b5-ddacf23ac08d"
      },
      "cell_type": "code",
      "source": [
        "df_test.head()"
      ],
      "execution_count": 41,
      "outputs": [
        {
          "output_type": "execute_result",
          "data": {
            "text/html": [
              "<div>\n",
              "<style scoped>\n",
              "    .dataframe tbody tr th:only-of-type {\n",
              "        vertical-align: middle;\n",
              "    }\n",
              "\n",
              "    .dataframe tbody tr th {\n",
              "        vertical-align: top;\n",
              "    }\n",
              "\n",
              "    .dataframe thead th {\n",
              "        text-align: right;\n",
              "    }\n",
              "</style>\n",
              "<table border=\"1\" class=\"dataframe\">\n",
              "  <thead>\n",
              "    <tr style=\"text-align: right;\">\n",
              "      <th></th>\n",
              "      <th>Date</th>\n",
              "      <th>Open</th>\n",
              "      <th>High</th>\n",
              "      <th>Low</th>\n",
              "      <th>Close</th>\n",
              "      <th>Volume</th>\n",
              "    </tr>\n",
              "  </thead>\n",
              "  <tbody>\n",
              "    <tr>\n",
              "      <th>0</th>\n",
              "      <td>1/3/2017</td>\n",
              "      <td>778.81</td>\n",
              "      <td>789.63</td>\n",
              "      <td>775.80</td>\n",
              "      <td>786.14</td>\n",
              "      <td>1,657,300</td>\n",
              "    </tr>\n",
              "    <tr>\n",
              "      <th>1</th>\n",
              "      <td>1/4/2017</td>\n",
              "      <td>788.36</td>\n",
              "      <td>791.34</td>\n",
              "      <td>783.16</td>\n",
              "      <td>786.90</td>\n",
              "      <td>1,073,000</td>\n",
              "    </tr>\n",
              "    <tr>\n",
              "      <th>2</th>\n",
              "      <td>1/5/2017</td>\n",
              "      <td>786.08</td>\n",
              "      <td>794.48</td>\n",
              "      <td>785.02</td>\n",
              "      <td>794.02</td>\n",
              "      <td>1,335,200</td>\n",
              "    </tr>\n",
              "    <tr>\n",
              "      <th>3</th>\n",
              "      <td>1/6/2017</td>\n",
              "      <td>795.26</td>\n",
              "      <td>807.90</td>\n",
              "      <td>792.20</td>\n",
              "      <td>806.15</td>\n",
              "      <td>1,640,200</td>\n",
              "    </tr>\n",
              "    <tr>\n",
              "      <th>4</th>\n",
              "      <td>1/9/2017</td>\n",
              "      <td>806.40</td>\n",
              "      <td>809.97</td>\n",
              "      <td>802.83</td>\n",
              "      <td>806.65</td>\n",
              "      <td>1,272,400</td>\n",
              "    </tr>\n",
              "  </tbody>\n",
              "</table>\n",
              "</div>"
            ],
            "text/plain": [
              "       Date    Open    High     Low   Close     Volume\n",
              "0  1/3/2017  778.81  789.63  775.80  786.14  1,657,300\n",
              "1  1/4/2017  788.36  791.34  783.16  786.90  1,073,000\n",
              "2  1/5/2017  786.08  794.48  785.02  794.02  1,335,200\n",
              "3  1/6/2017  795.26  807.90  792.20  806.15  1,640,200\n",
              "4  1/9/2017  806.40  809.97  802.83  806.65  1,272,400"
            ]
          },
          "metadata": {
            "tags": []
          },
          "execution_count": 41
        }
      ]
    },
    {
      "metadata": {
        "id": "qPdhXmTo4-jm",
        "colab_type": "code",
        "colab": {}
      },
      "cell_type": "code",
      "source": [
        "real_stock_price = df_test.iloc[:, 1:2].values"
      ],
      "execution_count": 0,
      "outputs": []
    },
    {
      "metadata": {
        "id": "tOVI9Hio5Rax",
        "colab_type": "code",
        "colab": {
          "base_uri": "https://localhost:8080/",
          "height": 102
        },
        "outputId": "4faffa76-b8cc-485c-c6bd-0ec789979e5a"
      },
      "cell_type": "code",
      "source": [
        "real_stock_price[:5]"
      ],
      "execution_count": 43,
      "outputs": [
        {
          "output_type": "execute_result",
          "data": {
            "text/plain": [
              "array([[778.81],\n",
              "       [788.36],\n",
              "       [786.08],\n",
              "       [795.26],\n",
              "       [806.4 ]])"
            ]
          },
          "metadata": {
            "tags": []
          },
          "execution_count": 43
        }
      ]
    },
    {
      "metadata": {
        "id": "TWp28KHH5Vgh",
        "colab_type": "code",
        "colab": {}
      },
      "cell_type": "code",
      "source": [
        "df_total = pd.concat((df_train['Open'], df_test['Open']), axis=0)\n",
        "inputs = df_total[len(df_total)-len(df_test)-60:].values\n",
        "inputs = inputs.reshape(-1, 1)\n",
        "inputs = minmax_sc.transform(inputs)"
      ],
      "execution_count": 0,
      "outputs": []
    },
    {
      "metadata": {
        "id": "VtbYSLHK6TWP",
        "colab_type": "code",
        "colab": {
          "base_uri": "https://localhost:8080/",
          "height": 1071
        },
        "outputId": "89057c73-df4b-4a45-e764-892d99826f64"
      },
      "cell_type": "code",
      "source": [
        "df_total"
      ],
      "execution_count": 45,
      "outputs": [
        {
          "output_type": "execute_result",
          "data": {
            "text/plain": [
              "0       325.25\n",
              "1       331.27\n",
              "2       329.83\n",
              "3       328.34\n",
              "4       322.04\n",
              "5       313.70\n",
              "6       310.59\n",
              "7       314.43\n",
              "8       311.96\n",
              "9       314.81\n",
              "10      312.14\n",
              "11      319.30\n",
              "12      294.16\n",
              "13      291.91\n",
              "14      292.07\n",
              "15      287.68\n",
              "16      284.92\n",
              "17      284.32\n",
              "18      287.95\n",
              "19      290.41\n",
              "20      291.38\n",
              "21      291.34\n",
              "22      294.23\n",
              "23      296.39\n",
              "24      302.44\n",
              "25      303.18\n",
              "26      304.87\n",
              "27      302.81\n",
              "28      304.11\n",
              "29      304.63\n",
              "         ...  \n",
              "1248    800.40\n",
              "1249    790.22\n",
              "1250    796.76\n",
              "1251    795.84\n",
              "1252    792.36\n",
              "1253    790.90\n",
              "1254    790.68\n",
              "1255    793.70\n",
              "1256    783.33\n",
              "1257    782.75\n",
              "0       778.81\n",
              "1       788.36\n",
              "2       786.08\n",
              "3       795.26\n",
              "4       806.40\n",
              "5       807.86\n",
              "6       805.00\n",
              "7       807.14\n",
              "8       807.48\n",
              "9       807.08\n",
              "10      805.81\n",
              "11      805.12\n",
              "12      806.91\n",
              "13      807.25\n",
              "14      822.30\n",
              "15      829.62\n",
              "16      837.81\n",
              "17      834.71\n",
              "18      814.66\n",
              "19      796.86\n",
              "Name: Open, Length: 1278, dtype: float64"
            ]
          },
          "metadata": {
            "tags": []
          },
          "execution_count": 45
        }
      ]
    },
    {
      "metadata": {
        "id": "55ZuP4g16WN2",
        "colab_type": "code",
        "colab": {
          "base_uri": "https://localhost:8080/",
          "height": 1377
        },
        "outputId": "8a4078c4-5586-46c8-c719-1c736b1d4dde"
      },
      "cell_type": "code",
      "source": [
        "inputs"
      ],
      "execution_count": 46,
      "outputs": [
        {
          "output_type": "execute_result",
          "data": {
            "text/plain": [
              "array([[0.9299055 ],\n",
              "       [0.93113327],\n",
              "       [0.92750577],\n",
              "       [0.94415507],\n",
              "       [0.93876032],\n",
              "       [0.93403527],\n",
              "       [0.93483518],\n",
              "       [0.9313937 ],\n",
              "       [0.94636878],\n",
              "       [0.96569685],\n",
              "       [0.97510976],\n",
              "       [0.95966962],\n",
              "       [0.97808617],\n",
              "       [1.        ],\n",
              "       [0.98076494],\n",
              "       [0.97083116],\n",
              "       [0.98450406],\n",
              "       [0.96054394],\n",
              "       [0.9371419 ],\n",
              "       [0.92841729],\n",
              "       [0.90804747],\n",
              "       [0.8771858 ],\n",
              "       [0.92153434],\n",
              "       [0.93809063],\n",
              "       [0.93165414],\n",
              "       [0.95254483],\n",
              "       [0.88812412],\n",
              "       [0.88637547],\n",
              "       [0.87032145],\n",
              "       [0.88563137],\n",
              "       [0.90743359],\n",
              "       [0.91571173],\n",
              "       [0.89941588],\n",
              "       [0.91805566],\n",
              "       [0.9089404 ],\n",
              "       [0.9024853 ],\n",
              "       [0.89456061],\n",
              "       [0.91600938],\n",
              "       [0.9132934 ],\n",
              "       [0.88979835],\n",
              "       [0.86589404],\n",
              "       [0.89030062],\n",
              "       [0.90335962],\n",
              "       [0.89642086],\n",
              "       [0.91777662],\n",
              "       [0.93176576],\n",
              "       [0.94114145],\n",
              "       [0.95762334],\n",
              "       [0.96413424],\n",
              "       [0.96402262],\n",
              "       [0.96971501],\n",
              "       [0.95077759],\n",
              "       [0.96294367],\n",
              "       [0.96123223],\n",
              "       [0.95475854],\n",
              "       [0.95204256],\n",
              "       [0.95163331],\n",
              "       [0.95725128],\n",
              "       [0.93796041],\n",
              "       [0.93688146],\n",
              "       [0.92955205],\n",
              "       [0.94731751],\n",
              "       [0.94307612],\n",
              "       [0.96015329],\n",
              "       [0.98087655],\n",
              "       [0.98359253],\n",
              "       [0.97827219],\n",
              "       [0.98225314],\n",
              "       [0.98288563],\n",
              "       [0.98214153],\n",
              "       [0.979779  ],\n",
              "       [0.97849542],\n",
              "       [0.98182528],\n",
              "       [0.98245777],\n",
              "       [1.01045465],\n",
              "       [1.02407173],\n",
              "       [1.03930724],\n",
              "       [1.03354044],\n",
              "       [0.99624228],\n",
              "       [0.9631297 ]])"
            ]
          },
          "metadata": {
            "tags": []
          },
          "execution_count": 46
        }
      ]
    },
    {
      "metadata": {
        "id": "_VtgyR3D6aVV",
        "colab_type": "code",
        "colab": {
          "base_uri": "https://localhost:8080/",
          "height": 34
        },
        "outputId": "97212cd8-8108-48d7-b365-620431ad9730"
      },
      "cell_type": "code",
      "source": [
        "inputs.shape"
      ],
      "execution_count": 47,
      "outputs": [
        {
          "output_type": "execute_result",
          "data": {
            "text/plain": [
              "(80, 1)"
            ]
          },
          "metadata": {
            "tags": []
          },
          "execution_count": 47
        }
      ]
    },
    {
      "metadata": {
        "id": "9WZihvb26fth",
        "colab_type": "code",
        "colab": {}
      },
      "cell_type": "code",
      "source": [
        "X_test = []\n",
        "for i in range(60, 80):\n",
        "  X_test.append(inputs[i-60:i,0])\n",
        "X_test = np.array(X_test)\n",
        "X_test = np.reshape(X_test, (X_test.shape[0], X_test.shape[1], 1))\n",
        "predicted_stock_price = regressor.predict(X_test)\n",
        "predicted_stock_price = minmax_sc.inverse_transform(predicted_stock_price)"
      ],
      "execution_count": 0,
      "outputs": []
    },
    {
      "metadata": {
        "id": "IdiIqrRr7KPd",
        "colab_type": "code",
        "colab": {
          "base_uri": "https://localhost:8080/",
          "height": 376
        },
        "outputId": "c9303a53-33f8-4d86-f677-920310268672"
      },
      "cell_type": "code",
      "source": [
        "plt.plot(real_stock_price, color = 'red', label = 'Real Google Stock Price')\n",
        "plt.plot(predicted_stock_price, color = 'blue', label = 'Predicted Google Stock Price')\n",
        "plt.title('Google Stock Price Prediction')\n",
        "plt.xlabel('Time')\n",
        "plt.ylabel('Google Stock Price')\n",
        "plt.legend()\n",
        "plt.show()"
      ],
      "execution_count": 49,
      "outputs": [
        {
          "output_type": "display_data",
          "data": {
            "image/png": "[encoded data removed]",
            "text/plain": [
              "<Figure size 576x396 with 1 Axes>"
            ]
          },
          "metadata": {
            "tags": []
          }
        }
      ]
    },
    {
      "metadata": {
        "id": "HLypb-Sa7TfP",
        "colab_type": "code",
        "colab": {}
      },
      "cell_type": "code",
      "source": [
        ""
      ],
      "execution_count": 0,
      "outputs": []
    }
  ]
}
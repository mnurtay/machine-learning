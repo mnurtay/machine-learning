{
 "cells": [
  {
   "cell_type": "markdown",
   "metadata": {
    "colab_type": "text",
    "id": "BItlNKJA5uum"
   },
   "source": [
    "# Lab 1"
   ]
  },
  {
   "cell_type": "markdown",
   "metadata": {
    "colab_type": "text",
    "id": "XtpHTom_5uup"
   },
   "source": [
    "<b>1 . Coding the forward propagation algorithm </b>\n",
    "\n",
    "In this exercise, you'll write code to do forward propagation (prediction) for your first neural network:\n",
    "\n",
    "<img src = '1_4.png'>\n",
    "\n",
    "Each data point is a customer. The first input is how many accounts they have, and the second input is how many children they have. The model will predict how many transactions the user makes in the next year. You will use this data throughout these lab excercises.\n",
    "\n",
    "The input data has been pre-loaded as input_data, and the weights are available in a dictionary called weights. The array of weights for the first node in the hidden layer are in weights['node_0'], and the array of weights for the second node in the hidden layer are in weights['node_1'].\n",
    "\n",
    "The weights feeding into the output node are available in weights['output'].\n",
    "\n",
    "Import numpy as np as usual"
   ]
  },
  {
   "cell_type": "code",
   "execution_count": 0,
   "metadata": {
    "colab": {},
    "colab_type": "code",
    "id": "jEA5C72H5uur"
   },
   "outputs": [],
   "source": [
    "import numpy as np"
   ]
  },
  {
   "cell_type": "code",
   "execution_count": 0,
   "metadata": {
    "colab": {},
    "colab_type": "code",
    "id": "VwXUOXhq5uux"
   },
   "outputs": [],
   "source": [
    "weights = {'node_0': np.array([2, 4]), 'node_1': np.array([ 4, -5]), 'output': np.array([2, 7])}"
   ]
  },
  {
   "cell_type": "code",
   "execution_count": 0,
   "metadata": {
    "colab": {},
    "colab_type": "code",
    "id": "EcHhGXii5uu4"
   },
   "outputs": [],
   "source": [
    "input_data = np.array([3, 5])"
   ]
  },
  {
   "cell_type": "markdown",
   "metadata": {
    "colab_type": "text",
    "id": "kTPxon2Z5uu9"
   },
   "source": [
    "Calculate the value in node 0 by multiplying input_data by its weights weights['node_0'] and computing their sum. This is the 1st node in the hidden layer. The output should be equal to 26"
   ]
  },
  {
   "cell_type": "code",
   "execution_count": 0,
   "metadata": {
    "colab": {},
    "colab_type": "code",
    "id": "eluVDY0K5uu_"
   },
   "outputs": [],
   "source": [
    "# Calculate node 0 value: node_0_value\n",
    "node_0_value = (input_data * weights['node_0']).sum()"
   ]
  },
  {
   "cell_type": "code",
   "execution_count": 8,
   "metadata": {
    "colab": {
     "base_uri": "https://localhost:8080/",
     "height": 34
    },
    "colab_type": "code",
    "executionInfo": {
     "elapsed": 695,
     "status": "ok",
     "timestamp": 1550200189904,
     "user": {
      "displayName": "Maksat Nurtay",
      "photoUrl": "https://lh5.googleusercontent.com/-iQ0Feq6Zg84/AAAAAAAAAAI/AAAAAAAAAb0/7Gh5n1g_D70/s64/photo.jpg",
      "userId": "07625710187602729014"
     },
     "user_tz": -360
    },
    "id": "Ox4xfhK05uvC",
    "outputId": "a5bd0f24-cfc1-406d-cfca-72e987139ea5"
   },
   "outputs": [
    {
     "data": {
      "text/plain": [
       "26"
      ]
     },
     "execution_count": 8,
     "metadata": {
      "tags": []
     },
     "output_type": "execute_result"
    }
   ],
   "source": [
    "node_0_value"
   ]
  },
  {
   "cell_type": "markdown",
   "metadata": {
    "colab_type": "text",
    "id": "2qZex9IW5uvI"
   },
   "source": [
    "Calculate the value in node 1 using input_data and weights['node_1']. This is the 2nd node in the hidden layer. the output should be equal to -13"
   ]
  },
  {
   "cell_type": "code",
   "execution_count": 0,
   "metadata": {
    "colab": {},
    "colab_type": "code",
    "id": "xIaxzkmG5uvJ"
   },
   "outputs": [],
   "source": [
    "# Calculate node 1 value: node_1_value\n",
    "node_1_value = (input_data * weights['node_1']).sum()"
   ]
  },
  {
   "cell_type": "markdown",
   "metadata": {
    "colab_type": "text",
    "id": "Bv3bXGT05uvM"
   },
   "source": [
    "Put the hidden layer values stacked into an array using numpy array."
   ]
  },
  {
   "cell_type": "code",
   "execution_count": 0,
   "metadata": {
    "colab": {},
    "colab_type": "code",
    "id": "cSe-UAch5uvN"
   },
   "outputs": [],
   "source": [
    "# Put node values into array: hidden_layer_outputs\n",
    "hidden_layer_outputs = np.array([node_0_value, node_1_value])"
   ]
  },
  {
   "cell_type": "markdown",
   "metadata": {
    "colab_type": "text",
    "id": "VjZiRxN05uvU"
   },
   "source": [
    "Generate the prediction by multiplying hidden_layer_outputs by weights['output'] and computing their sum."
   ]
  },
  {
   "cell_type": "code",
   "execution_count": 0,
   "metadata": {
    "colab": {},
    "colab_type": "code",
    "id": "AE0rLbiu5uvW"
   },
   "outputs": [],
   "source": [
    "# Calculate output: output\n",
    "output = (hidden_layer_outputs * weights['output']).sum()"
   ]
  },
  {
   "cell_type": "markdown",
   "metadata": {
    "colab_type": "text",
    "id": "z0gnDl2n5uvZ"
   },
   "source": [
    "print the output"
   ]
  },
  {
   "cell_type": "code",
   "execution_count": 12,
   "metadata": {
    "colab": {
     "base_uri": "https://localhost:8080/",
     "height": 34
    },
    "colab_type": "code",
    "executionInfo": {
     "elapsed": 701,
     "status": "ok",
     "timestamp": 1550200293680,
     "user": {
      "displayName": "Maksat Nurtay",
      "photoUrl": "https://lh5.googleusercontent.com/-iQ0Feq6Zg84/AAAAAAAAAAI/AAAAAAAAAb0/7Gh5n1g_D70/s64/photo.jpg",
      "userId": "07625710187602729014"
     },
     "user_tz": -360
    },
    "id": "mNUU5p_h5uvb",
    "outputId": "328be9d0-5be3-471d-e96b-c57d8d1601ad"
   },
   "outputs": [
    {
     "name": "stdout",
     "output_type": "stream",
     "text": [
      "-39\n"
     ]
    }
   ],
   "source": [
    "print(output)"
   ]
  },
  {
   "cell_type": "markdown",
   "metadata": {
    "colab_type": "text",
    "id": "gXlhXyXi5uvf"
   },
   "source": [
    "<b>2. The Rectified Linear Activation Function</b>\n",
    "\n",
    "An \"activation function\" is a function applied at each node. It converts the node's input into some output.\n",
    "\n",
    "The rectified linear activation function (called ReLU) has been shown to lead to very high-performance networks. This function takes a single number as an input, returning 0 if the input is negative, and the input if the input is positive.\n",
    "<img src = 'relu.png' width = 35% />\n",
    "Here are some examples: <br />\n",
    "relu(3) = 3 <br />\n",
    "relu(-3) = 0 "
   ]
  },
  {
   "cell_type": "markdown",
   "metadata": {
    "colab_type": "text",
    "id": "JwHhMvhZ5uvh"
   },
   "source": [
    "Write down the code of the relu() function: <br />\n",
    "Use the max() function to calculate the value for the output of relu()."
   ]
  },
  {
   "cell_type": "code",
   "execution_count": 0,
   "metadata": {
    "colab": {},
    "colab_type": "code",
    "id": "yzQk74OG5uvi"
   },
   "outputs": [],
   "source": [
    "def relu(node_value):\n",
    "    '''Use the max() function to calculate the value for the output of relu()'''\n",
    "    # Calculate the value for the output of the relu function: output\n",
    "    output = max(node_value, 0)\n",
    "    \n",
    "    # Return the value just calculated\n",
    "    return(output)"
   ]
  },
  {
   "cell_type": "markdown",
   "metadata": {
    "colab_type": "text",
    "id": "4PLMIxO25uvm"
   },
   "source": [
    "Apply the relu() function to node_0_input to calculate <b>node_0_output<b/>."
   ]
  },
  {
   "cell_type": "code",
   "execution_count": 15,
   "metadata": {
    "colab": {
     "base_uri": "https://localhost:8080/",
     "height": 34
    },
    "colab_type": "code",
    "executionInfo": {
     "elapsed": 831,
     "status": "ok",
     "timestamp": 1550200512613,
     "user": {
      "displayName": "Maksat Nurtay",
      "photoUrl": "https://lh5.googleusercontent.com/-iQ0Feq6Zg84/AAAAAAAAAAI/AAAAAAAAAb0/7Gh5n1g_D70/s64/photo.jpg",
      "userId": "07625710187602729014"
     },
     "user_tz": -360
    },
    "id": "hMQkFg4h5uvn",
    "outputId": "8dfdd21e-b591-449c-abcf-65e00566b414"
   },
   "outputs": [
    {
     "data": {
      "text/plain": [
       "26"
      ]
     },
     "execution_count": 15,
     "metadata": {
      "tags": []
     },
     "output_type": "execute_result"
    }
   ],
   "source": [
    "# Calculate node 0 value: node_0_output\n",
    "node_0_value = (input_data * weights['node_0']).sum()\n",
    "node_0_output = relu(node_0_value)\n",
    "node_0_output"
   ]
  },
  {
   "cell_type": "markdown",
   "metadata": {
    "colab_type": "text",
    "id": "YM6LiDlC5uvp"
   },
   "source": [
    "Apply the relu() function to node_1_input to calculate <b>node_1_output<b/>."
   ]
  },
  {
   "cell_type": "code",
   "execution_count": 16,
   "metadata": {
    "colab": {
     "base_uri": "https://localhost:8080/",
     "height": 34
    },
    "colab_type": "code",
    "executionInfo": {
     "elapsed": 713,
     "status": "ok",
     "timestamp": 1550200552351,
     "user": {
      "displayName": "Maksat Nurtay",
      "photoUrl": "https://lh5.googleusercontent.com/-iQ0Feq6Zg84/AAAAAAAAAAI/AAAAAAAAAb0/7Gh5n1g_D70/s64/photo.jpg",
      "userId": "07625710187602729014"
     },
     "user_tz": -360
    },
    "id": "ziyyYhHC5uvq",
    "outputId": "eb69a7bd-84b3-46f8-b2ee-366f3f8acbbc"
   },
   "outputs": [
    {
     "data": {
      "text/plain": [
       "0"
      ]
     },
     "execution_count": 16,
     "metadata": {
      "tags": []
     },
     "output_type": "execute_result"
    }
   ],
   "source": [
    "# Calculate node 1 value: node_1_output\n",
    "node_1_input = (input_data * weights['node_1']).sum()\n",
    "node_1_output = relu(node_1_input)\n",
    "node_1_output"
   ]
  },
  {
   "cell_type": "markdown",
   "metadata": {
    "colab_type": "text",
    "id": "NCY84e145uvu"
   },
   "source": [
    "Put node values into array: hidden_layer_outputs"
   ]
  },
  {
   "cell_type": "code",
   "execution_count": 0,
   "metadata": {
    "colab": {},
    "colab_type": "code",
    "id": "z_mAcSB25uvv"
   },
   "outputs": [],
   "source": [
    "hidden_layer_outputs = np.array([node_0_output, node_1_output])"
   ]
  },
  {
   "cell_type": "markdown",
   "metadata": {
    "colab_type": "text",
    "id": "V3VP39kp5uvz"
   },
   "source": [
    "Calculate model output (do not apply relu)"
   ]
  },
  {
   "cell_type": "code",
   "execution_count": 0,
   "metadata": {
    "colab": {},
    "colab_type": "code",
    "id": "cYR1mwH65uv1"
   },
   "outputs": [],
   "source": [
    "model_output = (hidden_layer_outputs * weights['output']).sum()"
   ]
  },
  {
   "cell_type": "markdown",
   "metadata": {
    "colab_type": "text",
    "id": "8uUk9WN_5uv5"
   },
   "source": [
    "Print model output"
   ]
  },
  {
   "cell_type": "code",
   "execution_count": 19,
   "metadata": {
    "colab": {
     "base_uri": "https://localhost:8080/",
     "height": 34
    },
    "colab_type": "code",
    "executionInfo": {
     "elapsed": 711,
     "status": "ok",
     "timestamp": 1550200599859,
     "user": {
      "displayName": "Maksat Nurtay",
      "photoUrl": "https://lh5.googleusercontent.com/-iQ0Feq6Zg84/AAAAAAAAAAI/AAAAAAAAAb0/7Gh5n1g_D70/s64/photo.jpg",
      "userId": "07625710187602729014"
     },
     "user_tz": -360
    },
    "id": "W19KuUtN5uv6",
    "outputId": "a1f4a453-a354-4c60-d52b-c0b310823c24"
   },
   "outputs": [
    {
     "name": "stdout",
     "output_type": "stream",
     "text": [
      "52\n"
     ]
    }
   ],
   "source": [
    "print(model_output)"
   ]
  },
  {
   "cell_type": "markdown",
   "metadata": {
    "colab_type": "text",
    "id": "pJVVpjmh5uv-"
   },
   "source": [
    "<b> 3. Applying the network to many observations/rows of data </b>\n",
    "\n",
    "You'll now define a function called predict_with_network() which will generate predictions for multiple data observations.\n",
    "\n",
    "The <b>input_data and weights</b> will be given <br />\n",
    "In addition, the <b>relu()</b> function you defined in the previous exercise is already there."
   ]
  },
  {
   "cell_type": "code",
   "execution_count": 0,
   "metadata": {
    "colab": {},
    "colab_type": "code",
    "id": "1roP11dF5uv-"
   },
   "outputs": [],
   "source": [
    "weights = {'node_0': np.array([2, 4]), 'node_1': np.array([ 4, -5]), 'output': np.array([2, 7])}"
   ]
  },
  {
   "cell_type": "code",
   "execution_count": 0,
   "metadata": {
    "colab": {},
    "colab_type": "code",
    "id": "uH4u0vQe5uwD"
   },
   "outputs": [],
   "source": [
    "input_data = np.array([[3, 5], [1,-1],[0,0],[8,4]])"
   ]
  },
  {
   "cell_type": "markdown",
   "metadata": {
    "colab_type": "text",
    "id": "V-BnQffB5uwK"
   },
   "source": [
    "Define a function called predict_with_network() that accepts two arguments - <b>input_data_row</b> and <b>weights</b> - and returns a prediction from the network as the output."
   ]
  },
  {
   "cell_type": "code",
   "execution_count": 0,
   "metadata": {
    "colab": {},
    "colab_type": "code",
    "id": "yIkja2p55uwL"
   },
   "outputs": [],
   "source": [
    "# Define predict_with_network()\n",
    "def predict_with_network(input_data_row, weights):\n",
    "\n",
    "    '''Calculate the input and output values for each node,\n",
    "    storing them as: node_0_input, node_0_output, node_1_input,\n",
    "    and node_1_output.'''\n",
    "    # Calculate node 0 value\n",
    "    '''To calculate the input value of a node, multiply the relevant arrays together and compute their sum.'''\n",
    "    node_0_input = (input_data_row * weights['node_0']).sum()\n",
    "    '''To calculate the output value of a node, apply the relu() function to the input value of the node.'''\n",
    "    node_0_output = relu(node_0_input)\n",
    "\n",
    "    # Calculate node 1 value\n",
    "    '''To calculate the input value of a node, multiply the relevant arrays together and compute their sum.'''\n",
    "    node_1_input = (input_data_row * weights['node_1']).sum()\n",
    "    '''To calculate the output value of a node, apply the relu() function to the input value of the node.'''\n",
    "    node_1_output = relu(node_1_input)\n",
    "\n",
    "    # Put node values into array: hidden_layer_outputs\n",
    "    hidden_layer_outputs = np.array([node_0_output, node_1_output])\n",
    "    \n",
    "    # Calculate model output\n",
    "    '''Calculate the model output by calculating input_to_final_layer and model_output\n",
    "    in the same way as you calculated the input and output values for the nodes.'''\n",
    "    input_to_final_layer = (hidden_layer_outputs * weights['output']).sum()\n",
    "    model_output = relu(input_to_final_layer)\n",
    "    \n",
    "    # Return model output\n",
    "    return(model_output)"
   ]
  },
  {
   "cell_type": "markdown",
   "metadata": {
    "colab_type": "text",
    "id": "EX7bm9Mi5uwN"
   },
   "source": [
    "Use a for loop to iterate over input_data: <br/>\n",
    "Use your predict_with_network() to generate predictions for each row of the input_data - input_data_row.<br/>\n",
    "Append each prediction to results."
   ]
  },
  {
   "cell_type": "code",
   "execution_count": 0,
   "metadata": {
    "colab": {},
    "colab_type": "code",
    "id": "-roLkl0U5uwP"
   },
   "outputs": [],
   "source": [
    "# Create empty list to store prediction results\n",
    "results = []\n",
    "for input_data_row in input_data:\n",
    "    # Append prediction to results\n",
    "    results.append(predict_with_network(input_data_row, weights))"
   ]
  },
  {
   "cell_type": "code",
   "execution_count": 27,
   "metadata": {
    "colab": {
     "base_uri": "https://localhost:8080/",
     "height": 34
    },
    "colab_type": "code",
    "executionInfo": {
     "elapsed": 830,
     "status": "ok",
     "timestamp": 1550200885690,
     "user": {
      "displayName": "Maksat Nurtay",
      "photoUrl": "https://lh5.googleusercontent.com/-iQ0Feq6Zg84/AAAAAAAAAAI/AAAAAAAAAb0/7Gh5n1g_D70/s64/photo.jpg",
      "userId": "07625710187602729014"
     },
     "user_tz": -360
    },
    "id": "XFtkoqbj5uwS",
    "outputId": "d09d7455-ee57-4a4e-c1c8-730fa0298888"
   },
   "outputs": [
    {
     "name": "stdout",
     "output_type": "stream",
     "text": [
      "[52, 63, 0, 148]\n"
     ]
    }
   ],
   "source": [
    "# Print results\n",
    "print(results)"
   ]
  },
  {
   "cell_type": "markdown",
   "metadata": {
    "colab_type": "text",
    "id": "4rd2QOMs5uwW"
   },
   "source": [
    "<b> 4. Multi-layer neural networks </b>\n",
    "\n",
    "In this exercise, you'll write code to do forward propagation for a neural network with 2 hidden layers. Each hidden layer has two nodes. The input data has been preloaded as input_data. The nodes in the first hidden layer are called node_0_0 and node_0_1. Their weights are pre-loaded as weights['node_0_0'] and weights['node_0_1'] respectively.\n",
    "\n",
    "The nodes in the second hidden layer are called node_1_0 and node_1_1. Their weights are pre-loaded as weights['node_1_0'] and weights['node_1_1'] respectively.\n",
    "\n",
    "We then create a model output from the hidden nodes using weights pre-loaded as weights['output'].\n",
    "<img src = '1_5.png' width = 45%>"
   ]
  },
  {
   "cell_type": "code",
   "execution_count": 0,
   "metadata": {
    "colab": {},
    "colab_type": "code",
    "id": "3w63ieNi5uwX"
   },
   "outputs": [],
   "source": [
    "input_data = np.array([3, 5])"
   ]
  },
  {
   "cell_type": "code",
   "execution_count": 0,
   "metadata": {
    "colab": {},
    "colab_type": "code",
    "id": "maHREH-35uwZ"
   },
   "outputs": [],
   "source": [
    "weights = {'node_0_0': np.array([2, 4]),\n",
    " 'node_0_1': np.array([ 4, -5]),\n",
    " 'node_1_0': np.array([-1,  2]),\n",
    " 'node_1_1': np.array([1, 2]),\n",
    " 'output': np.array([2, 7])}"
   ]
  },
  {
   "cell_type": "code",
   "execution_count": 0,
   "metadata": {
    "colab": {},
    "colab_type": "code",
    "id": "hnKrCkiu5uwc"
   },
   "outputs": [],
   "source": [
    "def predict_with_network(input_data):\n",
    "    # Calculate node 0 in the first hidden layer\n",
    "    node_0_0_input = (input_data * weights['node_0_0']).sum()\n",
    "    node_0_0_output = relu(node_0_0_input)\n",
    "\n",
    "    # Calculate node 1 in the first hidden layer\n",
    "    node_0_1_input = (input_data * weights['node_0_1']).sum()\n",
    "    node_0_1_output = relu(node_0_1_input)\n",
    "\n",
    "    # Put node values into array: hidden_0_outputs\n",
    "    hidden_0_outputs = np.array([node_0_0_output, node_0_1_output])\n",
    "    \n",
    "    # Calculate node 0 in the second hidden layer\n",
    "    node_1_0_input = (hidden_0_outputs * weights['node_1_0']).sum()\n",
    "    node_1_0_output = relu(node_1_0_input)\n",
    "\n",
    "    # Calculate node 1 in the second hidden layer\n",
    "    node_1_1_input = (hidden_0_outputs * weights['node_1_1']).sum()\n",
    "    node_1_1_output = relu(node_1_1_input)\n",
    "\n",
    "    # Put node values into array: hidden_1_outputs\n",
    "    hidden_1_outputs = np.array([node_1_0_output, node_1_1_output])\n",
    "\n",
    "    # Calculate model output: model_output\n",
    "    model_output = (hidden_1_outputs * weights['output']).sum()\n",
    "    \n",
    "    # Return model_output\n",
    "    return(model_output)"
   ]
  },
  {
   "cell_type": "code",
   "execution_count": 37,
   "metadata": {
    "colab": {
     "base_uri": "https://localhost:8080/",
     "height": 34
    },
    "colab_type": "code",
    "executionInfo": {
     "elapsed": 1052,
     "status": "ok",
     "timestamp": 1550201784263,
     "user": {
      "displayName": "Maksat Nurtay",
      "photoUrl": "https://lh5.googleusercontent.com/-iQ0Feq6Zg84/AAAAAAAAAAI/AAAAAAAAAb0/7Gh5n1g_D70/s64/photo.jpg",
      "userId": "07625710187602729014"
     },
     "user_tz": -360
    },
    "id": "8NXrMUe85uwe",
    "outputId": "891a0a92-bd43-407f-ae6f-f8efd2445f24"
   },
   "outputs": [
    {
     "name": "stdout",
     "output_type": "stream",
     "text": [
      "182\n"
     ]
    }
   ],
   "source": [
    "output = predict_with_network(input_data)\n",
    "print(output)"
   ]
  },
  {
   "cell_type": "code",
   "execution_count": 0,
   "metadata": {
    "colab": {},
    "colab_type": "code",
    "id": "a6F2kIH9Lz1r"
   },
   "outputs": [],
   "source": []
  }
 ],
 "metadata": {
  "colab": {
   "collapsed_sections": [],
   "name": "DL_lab_1.ipynb",
   "provenance": [],
   "version": "0.3.2"
  },
  "kernelspec": {
   "display_name": "Python 3",
   "language": "python",
   "name": "python3"
  },
  "language_info": {
   "codemirror_mode": {
    "name": "ipython",
    "version": 3
   },
   "file_extension": ".py",
   "mimetype": "text/x-python",
   "name": "python",
   "nbconvert_exporter": "python",
   "pygments_lexer": "ipython3",
   "version": "3.7.3"
  }
 },
 "nbformat": 4,
 "nbformat_minor": 1
}

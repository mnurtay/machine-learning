{
 "cells": [
  {
   "cell_type": "markdown",
   "metadata": {
    "colab_type": "text",
    "id": "BItlNKJA5uum"
   },
   "source": [
    "# Lab 1"
   ]
  },
  {
   "cell_type": "markdown",
   "metadata": {
    "colab_type": "text",
    "id": "XtpHTom_5uup"
   },
   "source": [
    "<b>1 . Coding the forward propagation algorithm </b>\n",
    "\n",
    "In this exercise, you'll write code to do forward propagation (prediction) for your first neural network:\n",
    "\n",
    "<img src = '1_4.png'>\n",
    "\n",
    "Each data point is a customer. The first input is how many accounts they have, and the second input is how many children they have. The model will predict how many transactions the user makes in the next year. You will use this data throughout these lab excercises.\n",
    "\n",
    "The input data has been pre-loaded as input_data, and the weights are available in a dictionary called weights. The array of weights for the first node in the hidden layer are in weights['node_0'], and the array of weights for the second node in the hidden layer are in weights['node_1'].\n",
    "\n",
    "The weights feeding into the output node are available in weights['output'].\n",
    "\n",
    "Import numpy as np as usual"
   ]
  },
  {
   "cell_type": "code",
   "execution_count": 0,
   "metadata": {
    "colab": {},
    "colab_type": "code",
    "id": "jEA5C72H5uur"
   },
   "outputs": [],
   "source": [
    "import numpy as np"
   ]
  },
  {
   "cell_type": "code",
   "execution_count": 0,
   "metadata": {
    "colab": {},
    "colab_type": "code",
    "id": "VwXUOXhq5uux"
   },
   "outputs": [],
   "source": [
    "weights = {'node_0': np.array([2, 4]), 'node_1': np.array([ 4, -5]), 'output': np.array([2, 7])}"
   ]
  },
  {
   "cell_type": "code",
   "execution_count": 0,
   "metadata": {
    "colab": {},
    "colab_type": "code",
    "id": "EcHhGXii5uu4"
   },
   "outputs": [],
   "source": [
    "input_data = np.array([3, 5])"
   ]
  },
  {
   "cell_type": "markdown",
   "metadata": {
    "colab_type": "text",
    "id": "kTPxon2Z5uu9"
   },
   "source": [
    "Calculate the value in node 0 by multiplying input_data by its weights weights['node_0'] and computing their sum. This is the 1st node in the hidden layer. The output should be equal to 26"
   ]
  },
  {
   "cell_type": "code",
   "execution_count": 0,
   "metadata": {
    "colab": {},
    "colab_type": "code",
    "id": "eluVDY0K5uu_"
   },
   "outputs": [],
   "source": [
    "# Calculate node 0 value: node_0_value\n",
    "node_0_value = (input_data * weights['node_0']).sum()"
   ]
  },
  {
   "cell_type": "code",
   "execution_count": 5,
   "metadata": {
    "colab": {
     "base_uri": "https://localhost:8080/",
     "height": 34
    },
    "colab_type": "code",
    "executionInfo": {
     "elapsed": 1394,
     "status": "ok",
     "timestamp": 1550201954405,
     "user": {
      "displayName": "Maksat Nurtay",
      "photoUrl": "https://lh5.googleusercontent.com/-iQ0Feq6Zg84/AAAAAAAAAAI/AAAAAAAAAb0/7Gh5n1g_D70/s64/photo.jpg",
      "userId": "07625710187602729014"
     },
     "user_tz": -360
    },
    "id": "Ox4xfhK05uvC",
    "outputId": "2b4f5fc2-09b7-40cf-b33e-585b369cb8e5"
   },
   "outputs": [
    {
     "data": {
      "text/plain": [
       "26"
      ]
     },
     "execution_count": 5,
     "metadata": {
      "tags": []
     },
     "output_type": "execute_result"
    }
   ],
   "source": [
    "node_0_value"
   ]
  },
  {
   "cell_type": "markdown",
   "metadata": {
    "colab_type": "text",
    "id": "2qZex9IW5uvI"
   },
   "source": [
    "Calculate the value in node 1 using input_data and weights['node_1']. This is the 2nd node in the hidden layer. the output should be equal to -13"
   ]
  },
  {
   "cell_type": "code",
   "execution_count": 0,
   "metadata": {
    "colab": {},
    "colab_type": "code",
    "id": "xIaxzkmG5uvJ"
   },
   "outputs": [],
   "source": [
    "# Calculate node 1 value: node_1_value\n",
    "node_1_value = (input_data * weights['node_1']).sum()"
   ]
  },
  {
   "cell_type": "markdown",
   "metadata": {
    "colab_type": "text",
    "id": "Bv3bXGT05uvM"
   },
   "source": [
    "Put the hidden layer values stacked into an array using numpy array."
   ]
  },
  {
   "cell_type": "code",
   "execution_count": 0,
   "metadata": {
    "colab": {},
    "colab_type": "code",
    "id": "cSe-UAch5uvN"
   },
   "outputs": [],
   "source": [
    "# Put node values into array: hidden_layer_outputs\n",
    "hidden_layer_outputs = np.array([node_0_value, node_1_value])"
   ]
  },
  {
   "cell_type": "markdown",
   "metadata": {
    "colab_type": "text",
    "id": "VjZiRxN05uvU"
   },
   "source": [
    "Generate the prediction by multiplying hidden_layer_outputs by weights['output'] and computing their sum."
   ]
  },
  {
   "cell_type": "code",
   "execution_count": 0,
   "metadata": {
    "colab": {},
    "colab_type": "code",
    "id": "AE0rLbiu5uvW"
   },
   "outputs": [],
   "source": [
    "# Calculate output: output\n",
    "output = (hidden_layer_outputs * weights['output']).sum()"
   ]
  },
  {
   "cell_type": "markdown",
   "metadata": {
    "colab_type": "text",
    "id": "z0gnDl2n5uvZ"
   },
   "source": [
    "print the output"
   ]
  },
  {
   "cell_type": "code",
   "execution_count": 9,
   "metadata": {
    "colab": {
     "base_uri": "https://localhost:8080/",
     "height": 34
    },
    "colab_type": "code",
    "executionInfo": {
     "elapsed": 1379,
     "status": "ok",
     "timestamp": 1550201954415,
     "user": {
      "displayName": "Maksat Nurtay",
      "photoUrl": "https://lh5.googleusercontent.com/-iQ0Feq6Zg84/AAAAAAAAAAI/AAAAAAAAAb0/7Gh5n1g_D70/s64/photo.jpg",
      "userId": "07625710187602729014"
     },
     "user_tz": -360
    },
    "id": "mNUU5p_h5uvb",
    "outputId": "f795d66a-c35f-4787-f74a-22052ad89736"
   },
   "outputs": [
    {
     "name": "stdout",
     "output_type": "stream",
     "text": [
      "-39\n"
     ]
    }
   ],
   "source": [
    "print(output)"
   ]
  },
  {
   "cell_type": "markdown",
   "metadata": {
    "colab_type": "text",
    "id": "gXlhXyXi5uvf"
   },
   "source": [
    "<b>2. The Rectified Linear Activation Function</b>\n",
    "\n",
    "An \"activation function\" is a function applied at each node. It converts the node's input into some output.\n",
    "\n",
    "The rectified linear activation function (called ReLU) has been shown to lead to very high-performance networks. This function takes a single number as an input, returning 0 if the input is negative, and the input if the input is positive.\n",
    "<img src = 'relu.png' width = 35% />\n",
    "Here are some examples: <br />\n",
    "relu(3) = 3 <br />\n",
    "relu(-3) = 0 "
   ]
  },
  {
   "cell_type": "markdown",
   "metadata": {
    "colab_type": "text",
    "id": "JwHhMvhZ5uvh"
   },
   "source": [
    "Write down the code of the relu() function: <br />\n",
    "Use the max() function to calculate the value for the output of relu()."
   ]
  },
  {
   "cell_type": "code",
   "execution_count": 0,
   "metadata": {
    "colab": {},
    "colab_type": "code",
    "id": "yzQk74OG5uvi"
   },
   "outputs": [],
   "source": [
    "def relu(node_value):\n",
    "    '''Use the max() function to calculate the value for the output of relu()'''\n",
    "    # Calculate the value for the output of the relu function: output\n",
    "    output = max(node_value, 0)\n",
    "    \n",
    "    # Return the value just calculated\n",
    "    return(output)"
   ]
  },
  {
   "cell_type": "markdown",
   "metadata": {
    "colab_type": "text",
    "id": "4PLMIxO25uvm"
   },
   "source": [
    "Apply the relu() function to node_0_input to calculate <b>node_0_output<b/>."
   ]
  },
  {
   "cell_type": "code",
   "execution_count": 11,
   "metadata": {
    "colab": {
     "base_uri": "https://localhost:8080/",
     "height": 34
    },
    "colab_type": "code",
    "executionInfo": {
     "elapsed": 1355,
     "status": "ok",
     "timestamp": 1550201954418,
     "user": {
      "displayName": "Maksat Nurtay",
      "photoUrl": "https://lh5.googleusercontent.com/-iQ0Feq6Zg84/AAAAAAAAAAI/AAAAAAAAAb0/7Gh5n1g_D70/s64/photo.jpg",
      "userId": "07625710187602729014"
     },
     "user_tz": -360
    },
    "id": "hMQkFg4h5uvn",
    "outputId": "4120b7f1-387c-43ae-a84d-4159987adc48"
   },
   "outputs": [
    {
     "data": {
      "text/plain": [
       "26"
      ]
     },
     "execution_count": 11,
     "metadata": {
      "tags": []
     },
     "output_type": "execute_result"
    }
   ],
   "source": [
    "# Calculate node 0 value: node_0_output\n",
    "node_0_value = (input_data * weights['node_0']).sum()\n",
    "node_0_output = relu(node_0_value)\n",
    "node_0_output"
   ]
  },
  {
   "cell_type": "markdown",
   "metadata": {
    "colab_type": "text",
    "id": "YM6LiDlC5uvp"
   },
   "source": [
    "Apply the relu() function to node_1_input to calculate <b>node_1_output<b/>."
   ]
  },
  {
   "cell_type": "code",
   "execution_count": 12,
   "metadata": {
    "colab": {
     "base_uri": "https://localhost:8080/",
     "height": 34
    },
    "colab_type": "code",
    "executionInfo": {
     "elapsed": 1329,
     "status": "ok",
     "timestamp": 1550201954419,
     "user": {
      "displayName": "Maksat Nurtay",
      "photoUrl": "https://lh5.googleusercontent.com/-iQ0Feq6Zg84/AAAAAAAAAAI/AAAAAAAAAb0/7Gh5n1g_D70/s64/photo.jpg",
      "userId": "07625710187602729014"
     },
     "user_tz": -360
    },
    "id": "ziyyYhHC5uvq",
    "outputId": "a0c4f130-ee55-4700-f25e-795437dd8d09"
   },
   "outputs": [
    {
     "data": {
      "text/plain": [
       "0"
      ]
     },
     "execution_count": 12,
     "metadata": {
      "tags": []
     },
     "output_type": "execute_result"
    }
   ],
   "source": [
    "# Calculate node 1 value: node_1_output\n",
    "node_1_input = (input_data * weights['node_1']).sum()\n",
    "node_1_output = relu(node_1_input)\n",
    "node_1_output"
   ]
  },
  {
   "cell_type": "markdown",
   "metadata": {
    "colab_type": "text",
    "id": "NCY84e145uvu"
   },
   "source": [
    "Put node values into array: hidden_layer_outputs"
   ]
  },
  {
   "cell_type": "code",
   "execution_count": 0,
   "metadata": {
    "colab": {},
    "colab_type": "code",
    "id": "z_mAcSB25uvv"
   },
   "outputs": [],
   "source": [
    "hidden_layer_outputs = np.array([node_0_output, node_1_output])"
   ]
  },
  {
   "cell_type": "markdown",
   "metadata": {
    "colab_type": "text",
    "id": "V3VP39kp5uvz"
   },
   "source": [
    "Calculate model output (do not apply relu)"
   ]
  },
  {
   "cell_type": "code",
   "execution_count": 0,
   "metadata": {
    "colab": {},
    "colab_type": "code",
    "id": "cYR1mwH65uv1"
   },
   "outputs": [],
   "source": [
    "model_output = (hidden_layer_outputs * weights['output']).sum()"
   ]
  },
  {
   "cell_type": "markdown",
   "metadata": {
    "colab_type": "text",
    "id": "8uUk9WN_5uv5"
   },
   "source": [
    "Print model output"
   ]
  },
  {
   "cell_type": "code",
   "execution_count": 15,
   "metadata": {
    "colab": {
     "base_uri": "https://localhost:8080/",
     "height": 34
    },
    "colab_type": "code",
    "executionInfo": {
     "elapsed": 1304,
     "status": "ok",
     "timestamp": 1550201954426,
     "user": {
      "displayName": "Maksat Nurtay",
      "photoUrl": "https://lh5.googleusercontent.com/-iQ0Feq6Zg84/AAAAAAAAAAI/AAAAAAAAAb0/7Gh5n1g_D70/s64/photo.jpg",
      "userId": "07625710187602729014"
     },
     "user_tz": -360
    },
    "id": "W19KuUtN5uv6",
    "outputId": "1528d66d-a0b5-4596-ea74-d1c50110f2e8"
   },
   "outputs": [
    {
     "name": "stdout",
     "output_type": "stream",
     "text": [
      "52\n"
     ]
    }
   ],
   "source": [
    "print(model_output)"
   ]
  },
  {
   "cell_type": "markdown",
   "metadata": {
    "colab_type": "text",
    "id": "pJVVpjmh5uv-"
   },
   "source": [
    "<b> 3. Applying the network to many observations/rows of data </b>\n",
    "\n",
    "You'll now define a function called predict_with_network() which will generate predictions for multiple data observations.\n",
    "\n",
    "The <b>input_data and weights</b> will be given <br />\n",
    "In addition, the <b>relu()</b> function you defined in the previous exercise is already there."
   ]
  },
  {
   "cell_type": "code",
   "execution_count": 0,
   "metadata": {
    "colab": {},
    "colab_type": "code",
    "id": "1roP11dF5uv-"
   },
   "outputs": [],
   "source": [
    "weights = {'node_0': np.array([2, 4]), 'node_1': np.array([ 4, -5]), 'output': np.array([2, 7])}"
   ]
  },
  {
   "cell_type": "code",
   "execution_count": 0,
   "metadata": {
    "colab": {},
    "colab_type": "code",
    "id": "uH4u0vQe5uwD"
   },
   "outputs": [],
   "source": [
    "input_data = np.array([[3, 5], [1,-1],[0,0],[8,4]])"
   ]
  },
  {
   "cell_type": "markdown",
   "metadata": {
    "colab_type": "text",
    "id": "V-BnQffB5uwK"
   },
   "source": [
    "Define a function called predict_with_network() that accepts two arguments - <b>input_data_row</b> and <b>weights</b> - and returns a prediction from the network as the output."
   ]
  },
  {
   "cell_type": "code",
   "execution_count": 0,
   "metadata": {
    "colab": {},
    "colab_type": "code",
    "id": "yIkja2p55uwL"
   },
   "outputs": [],
   "source": [
    "# Define predict_with_network()\n",
    "def predict_with_network(input_data_row, weights):\n",
    "\n",
    "    '''Calculate the input and output values for each node,\n",
    "    storing them as: node_0_input, node_0_output, node_1_input,\n",
    "    and node_1_output.'''\n",
    "    # Calculate node 0 value\n",
    "    '''To calculate the input value of a node, multiply the relevant arrays together and compute their sum.'''\n",
    "    node_0_input = (input_data_row * weights['node_0']).sum()\n",
    "    '''To calculate the output value of a node, apply the relu() function to the input value of the node.'''\n",
    "    node_0_output = relu(node_0_input)\n",
    "\n",
    "    # Calculate node 1 value\n",
    "    '''To calculate the input value of a node, multiply the relevant arrays together and compute their sum.'''\n",
    "    node_1_input = (input_data_row * weights['node_1']).sum()\n",
    "    '''To calculate the output value of a node, apply the relu() function to the input value of the node.'''\n",
    "    node_1_output = relu(node_1_input)\n",
    "\n",
    "    # Put node values into array: hidden_layer_outputs\n",
    "    hidden_layer_outputs = np.array([node_0_output, node_1_output])\n",
    "    \n",
    "    # Calculate model output\n",
    "    '''Calculate the model output by calculating input_to_final_layer and model_output\n",
    "    in the same way as you calculated the input and output values for the nodes.'''\n",
    "    input_to_final_layer = (hidden_layer_outputs * weights['output']).sum()\n",
    "    model_output = relu(input_to_final_layer)\n",
    "    \n",
    "    # Return model output\n",
    "    return(model_output)"
   ]
  },
  {
   "cell_type": "markdown",
   "metadata": {
    "colab_type": "text",
    "id": "EX7bm9Mi5uwN"
   },
   "source": [
    "Use a for loop to iterate over input_data: <br/>\n",
    "Use your predict_with_network() to generate predictions for each row of the input_data - input_data_row.<br/>\n",
    "Append each prediction to results."
   ]
  },
  {
   "cell_type": "code",
   "execution_count": 0,
   "metadata": {
    "colab": {},
    "colab_type": "code",
    "id": "-roLkl0U5uwP"
   },
   "outputs": [],
   "source": [
    "# Create empty list to store prediction results\n",
    "results = []\n",
    "for input_data_row in input_data:\n",
    "    # Append prediction to results\n",
    "    results.append(predict_with_network(input_data_row, weights))"
   ]
  },
  {
   "cell_type": "code",
   "execution_count": 20,
   "metadata": {
    "colab": {
     "base_uri": "https://localhost:8080/",
     "height": 34
    },
    "colab_type": "code",
    "executionInfo": {
     "elapsed": 851,
     "status": "ok",
     "timestamp": 1550201954759,
     "user": {
      "displayName": "Maksat Nurtay",
      "photoUrl": "https://lh5.googleusercontent.com/-iQ0Feq6Zg84/AAAAAAAAAAI/AAAAAAAAAb0/7Gh5n1g_D70/s64/photo.jpg",
      "userId": "07625710187602729014"
     },
     "user_tz": -360
    },
    "id": "XFtkoqbj5uwS",
    "outputId": "58dd3e29-1c3a-4a37-b9e1-ff82d2b2c4bd"
   },
   "outputs": [
    {
     "name": "stdout",
     "output_type": "stream",
     "text": [
      "[52, 63, 0, 148]\n"
     ]
    }
   ],
   "source": [
    "# Print results\n",
    "print(results)"
   ]
  },
  {
   "cell_type": "markdown",
   "metadata": {
    "colab_type": "text",
    "id": "4rd2QOMs5uwW"
   },
   "source": [
    "<b> 4. Multi-layer neural networks </b>\n",
    "\n",
    "In this exercise, you'll write code to do forward propagation for a neural network with 2 hidden layers. Each hidden layer has two nodes. The input data has been preloaded as input_data. The nodes in the first hidden layer are called node_0_0 and node_0_1. Their weights are pre-loaded as weights['node_0_0'] and weights['node_0_1'] respectively.\n",
    "\n",
    "The nodes in the second hidden layer are called node_1_0 and node_1_1. Their weights are pre-loaded as weights['node_1_0'] and weights['node_1_1'] respectively.\n",
    "\n",
    "We then create a model output from the hidden nodes using weights pre-loaded as weights['output'].\n",
    "<img src = '1_5.png' width = 45%>"
   ]
  },
  {
   "cell_type": "code",
   "execution_count": 0,
   "metadata": {
    "colab": {},
    "colab_type": "code",
    "id": "3w63ieNi5uwX"
   },
   "outputs": [],
   "source": [
    "input_data = np.array([3, 5])"
   ]
  },
  {
   "cell_type": "code",
   "execution_count": 0,
   "metadata": {
    "colab": {},
    "colab_type": "code",
    "id": "maHREH-35uwZ"
   },
   "outputs": [],
   "source": [
    "weights = {'node_0_0': np.array([2, 4]),\n",
    " 'node_0_1': np.array([ 4, -5]),\n",
    " 'node_1_0': np.array([-1,  2]),\n",
    " 'node_1_1': np.array([1, 2]),\n",
    " 'output': np.array([2, 7])}"
   ]
  },
  {
   "cell_type": "code",
   "execution_count": 0,
   "metadata": {
    "colab": {},
    "colab_type": "code",
    "id": "hnKrCkiu5uwc"
   },
   "outputs": [],
   "source": [
    "def predict_with_network(input_data):\n",
    "    # Calculate node 0 in the first hidden layer\n",
    "    node_0_0_input = (input_data * weights['node_0_0']).sum()\n",
    "    node_0_0_output = relu(node_0_0_input)\n",
    "\n",
    "    # Calculate node 1 in the first hidden layer\n",
    "    node_0_1_input = (input_data * weights['node_0_1']).sum()\n",
    "    node_0_1_output = relu(node_0_1_input)\n",
    "\n",
    "    # Put node values into array: hidden_0_outputs\n",
    "    hidden_0_outputs = np.array([node_0_0_output, node_0_1_output])\n",
    "    \n",
    "    # Calculate node 0 in the second hidden layer\n",
    "    node_1_0_input = (hidden_0_outputs * weights['node_1_0']).sum()\n",
    "    node_1_0_output = relu(node_1_0_input)\n",
    "\n",
    "    # Calculate node 1 in the second hidden layer\n",
    "    node_1_1_input = (hidden_0_outputs * weights['node_1_1']).sum()\n",
    "    node_1_1_output = relu(node_1_1_input)\n",
    "\n",
    "    # Put node values into array: hidden_1_outputs\n",
    "    hidden_1_outputs = np.array([node_1_0_output, node_1_1_output])\n",
    "\n",
    "    # Calculate model output: model_output\n",
    "    model_output = (hidden_1_outputs * weights['output']).sum()\n",
    "    \n",
    "    # Return model_output\n",
    "    return(model_output)"
   ]
  },
  {
   "cell_type": "code",
   "execution_count": 24,
   "metadata": {
    "colab": {
     "base_uri": "https://localhost:8080/",
     "height": 34
    },
    "colab_type": "code",
    "executionInfo": {
     "elapsed": 710,
     "status": "ok",
     "timestamp": 1550201955803,
     "user": {
      "displayName": "Maksat Nurtay",
      "photoUrl": "https://lh5.googleusercontent.com/-iQ0Feq6Zg84/AAAAAAAAAAI/AAAAAAAAAb0/7Gh5n1g_D70/s64/photo.jpg",
      "userId": "07625710187602729014"
     },
     "user_tz": -360
    },
    "id": "8NXrMUe85uwe",
    "outputId": "cd49f80f-cc72-4581-f84b-5197121b510c"
   },
   "outputs": [
    {
     "name": "stdout",
     "output_type": "stream",
     "text": [
      "182\n"
     ]
    }
   ],
   "source": [
    "output = predict_with_network(input_data)\n",
    "print(output)"
   ]
  },
  {
   "cell_type": "markdown",
   "metadata": {
    "colab_type": "text",
    "id": "c_Rmrb-hPNaN"
   },
   "source": [
    "# Lab #2 Backpropagation"
   ]
  },
  {
   "cell_type": "markdown",
   "metadata": {
    "colab_type": "text",
    "id": "__Ir0YyjPgYL"
   },
   "source": [
    "## <b> 5. Coding how weight changes affect accuracy </b>\n",
    "\n",
    "Now you'll get to change weights in a real network and see how they affect model accuracy!\n",
    "\n",
    "Have a look at the following neural network:\n",
    "<img src = '1_6.png'>\n",
    "\n",
    "Its weights have been pre-loaded as weights_0. Your task in this exercise is to update a single weight in weights_0 to create weights_1, which gives a perfect prediction (in which the predicted value is equal to target_actual: 3).\n",
    "\n",
    "Use a pen and paper if necessary to experiment with different combinations. You'll use the predict_with_network() function, which takes an array of data as the first argument, and weights as the second argument."
   ]
  },
  {
   "cell_type": "code",
   "execution_count": 0,
   "metadata": {
    "colab": {},
    "colab_type": "code",
    "id": "O8gFXBjsPgYL"
   },
   "outputs": [],
   "source": [
    "# The data point you will make a prediction for\n",
    "input_data = np.array([0, 3])"
   ]
  },
  {
   "cell_type": "code",
   "execution_count": 0,
   "metadata": {
    "colab": {},
    "colab_type": "code",
    "id": "USiGZcUJPgYP"
   },
   "outputs": [],
   "source": [
    "# Sample weights\n",
    "weights_0 = {'node_0': [2, 1],\n",
    "             'node_1': [1, 2],\n",
    "             'output': [1, 1]\n",
    "            }"
   ]
  },
  {
   "cell_type": "code",
   "execution_count": 0,
   "metadata": {
    "colab": {},
    "colab_type": "code",
    "id": "xgFkO1Q-PgYS"
   },
   "outputs": [],
   "source": [
    "# The actual target value, used to calculate the error\n",
    "target_actual = 3"
   ]
  },
  {
   "cell_type": "code",
   "execution_count": 0,
   "metadata": {
    "colab": {},
    "colab_type": "code",
    "id": "r7ZpnGrpPgYW"
   },
   "outputs": [],
   "source": [
    "def predict_with_network(input_data, weights):\n",
    "    # Calculate node 0 in the first hidden layer\n",
    "    node_0_0_input = (input_data * weights['node_0']).sum()\n",
    "    node_0_0_output = relu(node_0_0_input)\n",
    "\n",
    "    # Calculate node 1 in the first hidden layer\n",
    "    node_0_1_input = (input_data * weights['node_1']).sum()\n",
    "    node_0_1_output = relu(node_0_1_input)\n",
    "\n",
    "    # Put node values into array: hidden_0_outputs\n",
    "    hidden_0_outputs = np.array([node_0_0_output, node_0_1_output])\n",
    "\n",
    "    # Calculate model output: model_output\n",
    "    model_output = (hidden_0_outputs * weights['output']).sum()\n",
    "    \n",
    "    # Return model_output\n",
    "    return(model_output)"
   ]
  },
  {
   "cell_type": "code",
   "execution_count": 0,
   "metadata": {
    "colab": {},
    "colab_type": "code",
    "id": "VqzFwRV3PgYa"
   },
   "outputs": [],
   "source": [
    "# Make prediction using original weights\n",
    "model_output_0 = predict_with_network(input_data, weights_0)"
   ]
  },
  {
   "cell_type": "code",
   "execution_count": 31,
   "metadata": {
    "colab": {
     "base_uri": "https://localhost:8080/",
     "height": 34
    },
    "colab_type": "code",
    "executionInfo": {
     "elapsed": 696,
     "status": "ok",
     "timestamp": 1550202517501,
     "user": {
      "displayName": "Maksat Nurtay",
      "photoUrl": "https://lh5.googleusercontent.com/-iQ0Feq6Zg84/AAAAAAAAAAI/AAAAAAAAAb0/7Gh5n1g_D70/s64/photo.jpg",
      "userId": "07625710187602729014"
     },
     "user_tz": -360
    },
    "id": "DJzYaavOPgYc",
    "outputId": "6ffec614-e992-4380-90e5-aa6a54801f2b"
   },
   "outputs": [
    {
     "data": {
      "text/plain": [
       "6"
      ]
     },
     "execution_count": 31,
     "metadata": {
      "tags": []
     },
     "output_type": "execute_result"
    }
   ],
   "source": [
    "# Calculate error: error_0 is a difference between model_output_0 and target_actual\n",
    "error_0 = model_output_0 - target_actual\n",
    "error_0"
   ]
  },
  {
   "cell_type": "markdown",
   "metadata": {
    "colab_type": "text",
    "id": "5uE06vcMPgYg"
   },
   "source": [
    "Create a dictionary of weights called weights_1 where you have changed 1 weight from weights_0 (You only need to make 1 edit to weights_0 to generate the perfect prediction)."
   ]
  },
  {
   "cell_type": "code",
   "execution_count": 0,
   "metadata": {
    "colab": {},
    "colab_type": "code",
    "id": "JGCbeikDPgYg"
   },
   "outputs": [],
   "source": [
    "# Create weights that cause the network to make perfect prediction (3): weights_1\n",
    "weights_1 = {'node_0': [2, 1],\n",
    "             'node_1': [1, 2],\n",
    "             'output': [1, 0]\n",
    "            }"
   ]
  },
  {
   "cell_type": "markdown",
   "metadata": {
    "colab_type": "text",
    "id": "-rbQcUjuPgYj"
   },
   "source": [
    "Obtain predictions with the new weights using the predict_with_network() function with input_data and weights_1."
   ]
  },
  {
   "cell_type": "code",
   "execution_count": 0,
   "metadata": {
    "colab": {},
    "colab_type": "code",
    "id": "23hZ6EYKPgYj"
   },
   "outputs": [],
   "source": [
    "# Make prediction using new weights: model_output_1\n",
    "model_output_1 = predict_with_network(input_data, weights_1)"
   ]
  },
  {
   "cell_type": "markdown",
   "metadata": {
    "colab_type": "text",
    "id": "cpGV0XtKPgYl"
   },
   "source": [
    "Calculate the error for the new weights by subtracting target_actual from model_output_1."
   ]
  },
  {
   "cell_type": "code",
   "execution_count": 0,
   "metadata": {
    "colab": {},
    "colab_type": "code",
    "id": "z1_o96iLPgYo"
   },
   "outputs": [],
   "source": [
    "# Calculate error: error_1\n",
    "error_1 = model_output_1 - target_actual"
   ]
  },
  {
   "cell_type": "code",
   "execution_count": 35,
   "metadata": {
    "colab": {
     "base_uri": "https://localhost:8080/",
     "height": 51
    },
    "colab_type": "code",
    "executionInfo": {
     "elapsed": 487,
     "status": "ok",
     "timestamp": 1550202587933,
     "user": {
      "displayName": "Maksat Nurtay",
      "photoUrl": "https://lh5.googleusercontent.com/-iQ0Feq6Zg84/AAAAAAAAAAI/AAAAAAAAAb0/7Gh5n1g_D70/s64/photo.jpg",
      "userId": "07625710187602729014"
     },
     "user_tz": -360
    },
    "id": "OJcE355vPgYq",
    "outputId": "b2462f59-d265-4fd4-b629-854e996755a4"
   },
   "outputs": [
    {
     "name": "stdout",
     "output_type": "stream",
     "text": [
      "6\n",
      "0\n"
     ]
    }
   ],
   "source": [
    "# Print error_0 and error_1\n",
    "print(error_0)\n",
    "print(error_1)"
   ]
  },
  {
   "cell_type": "markdown",
   "metadata": {
    "colab_type": "text",
    "id": "iqA5ZMtIPgYw"
   },
   "source": [
    "<b> 6. Scaling up to multiple data points</b>\n",
    "\n",
    "You've seen how different weights will have different accuracies on a single prediction. But usually, you'll want to measure model accuracy on many points. You'll now write code to compare model accuracies for two different sets of weights, which have been stored as weights_0 and weights_1.\n",
    "\n",
    "input_data is a list of arrays. Each item in that list contains the data to make a single prediction. target_actuals is a list of numbers. Each item in that list is the actual value we are trying to predict.\n",
    "\n",
    "In this exercise, you'll use the mean_squared_error() function from sklearn.metrics. It takes the true values and the predicted values as arguments.\n",
    "\n",
    "You'll also use the preloaded predict_with_network() function, which takes an array of data as the first argument, and weights as the second argument."
   ]
  },
  {
   "cell_type": "code",
   "execution_count": 0,
   "metadata": {
    "colab": {},
    "colab_type": "code",
    "id": "1UCkTiFsPgYx"
   },
   "outputs": [],
   "source": [
    "# import mean squared error calculating module frm sklearn\n",
    "from sklearn.metrics import mean_squared_error"
   ]
  },
  {
   "cell_type": "code",
   "execution_count": 0,
   "metadata": {
    "colab": {},
    "colab_type": "code",
    "id": "FcLjs0bTPgYy"
   },
   "outputs": [],
   "source": [
    "# Sample weights\n",
    "weights_0 = {'node_0': [2, 1],\n",
    "             'node_1': [1, 2],\n",
    "             'output': [1, 1]\n",
    "            }"
   ]
  },
  {
   "cell_type": "code",
   "execution_count": 0,
   "metadata": {
    "colab": {},
    "colab_type": "code",
    "id": "zKMW8GLHPgY1"
   },
   "outputs": [],
   "source": [
    "# Create weights that cause the network to make perfect prediction (3): weights_1\n",
    "weights_1 = {'node_0': [2, 1],\n",
    "             'node_1': [1, 1.5],\n",
    "             'output': [1, 1.5]\n",
    "            }"
   ]
  },
  {
   "cell_type": "code",
   "execution_count": 0,
   "metadata": {
    "colab": {},
    "colab_type": "code",
    "id": "bfL_59fsPgY3"
   },
   "outputs": [],
   "source": [
    "# The data point you will make a prediction for\n",
    "input_data = np.array([[0, 3], [1,2], [-1,-2],[4,0]])"
   ]
  },
  {
   "cell_type": "code",
   "execution_count": 0,
   "metadata": {
    "colab": {},
    "colab_type": "code",
    "id": "E2jGpLWQPgY8"
   },
   "outputs": [],
   "source": [
    "target_actuals = [1, 3, 5, 7]"
   ]
  },
  {
   "cell_type": "code",
   "execution_count": 0,
   "metadata": {
    "colab": {},
    "colab_type": "code",
    "id": "zjxng0UrPgY_"
   },
   "outputs": [],
   "source": [
    "def predict_with_network(input_data, weights):\n",
    "    # Calculate node 0 in the first hidden layer\n",
    "    node_0_0_input = (input_data * weights['node_0']).sum()\n",
    "    node_0_0_output = relu(node_0_0_input)\n",
    "\n",
    "    # Calculate node 1 in the first hidden layer\n",
    "    node_0_1_input = (input_data * weights['node_1']).sum()\n",
    "    node_0_1_output = relu(node_0_1_input)\n",
    "\n",
    "    # Put node values into array: hidden_0_outputs\n",
    "    hidden_0_outputs = np.array([node_0_0_output, node_0_1_output])\n",
    "\n",
    "    # Calculate model output: model_output\n",
    "    model_output = (hidden_0_outputs * weights['output']).sum()\n",
    "    \n",
    "    # Return model_output\n",
    "    return(model_output)"
   ]
  },
  {
   "cell_type": "markdown",
   "metadata": {
    "colab_type": "text",
    "id": "45RF8ehpPgZC"
   },
   "source": [
    "Using a for loop to iterate over each row of input_data:\n",
    "Make predictions for each row with weights_0 using the predict_with_network() function and append it to model_output_0.\n",
    "Do the same for weights_1, appending the predictions to model_output_1."
   ]
  },
  {
   "cell_type": "code",
   "execution_count": 0,
   "metadata": {
    "colab": {},
    "colab_type": "code",
    "id": "5k4BdX8PPgZD"
   },
   "outputs": [],
   "source": [
    "# Create model_output_0 \n",
    "model_output_0 = []\n",
    "# Create model_output_1\n",
    "model_output_1 = []\n",
    "\n",
    "# Loop over input_data\n",
    "for row in input_data:\n",
    "    # Append prediction to model_output_0\n",
    "    model_output_0.append(predict_with_network(row, weights_0))\n",
    "    \n",
    "    # Append prediction to model_output_1\n",
    "    model_output_1.append(predict_with_network(row, weights_1))"
   ]
  },
  {
   "cell_type": "markdown",
   "metadata": {
    "colab_type": "text",
    "id": "AKaDTR13PgZF"
   },
   "source": [
    "Calculate the mean squared error of model_output_0 and then model_output_1 using the mean_squared_error() function. The first argument should be the actual values (target_actuals), and the second argument should be the predicted values (model_output_0 or model_output_1)."
   ]
  },
  {
   "cell_type": "code",
   "execution_count": 43,
   "metadata": {
    "colab": {
     "base_uri": "https://localhost:8080/",
     "height": 51
    },
    "colab_type": "code",
    "executionInfo": {
     "elapsed": 685,
     "status": "ok",
     "timestamp": 1550202816666,
     "user": {
      "displayName": "Maksat Nurtay",
      "photoUrl": "https://lh5.googleusercontent.com/-iQ0Feq6Zg84/AAAAAAAAAAI/AAAAAAAAAb0/7Gh5n1g_D70/s64/photo.jpg",
      "userId": "07625710187602729014"
     },
     "user_tz": -360
    },
    "id": "JzIzxBLuPgZJ",
    "outputId": "7cf45188-2379-4d37-8923-2321aa56def5"
   },
   "outputs": [
    {
     "name": "stdout",
     "output_type": "stream",
     "text": [
      "Mean squared error with weights_0: 37.500000\n",
      "Mean squared error with weights_1: 49.890625\n"
     ]
    }
   ],
   "source": [
    "# Calculate the mean squared error for model_output_0: mse_0\n",
    "mse_0 = mean_squared_error(target_actuals, model_output_0)\n",
    "\n",
    "# Calculate the mean squared error for model_output_1: mse_1\n",
    "mse_1 = mean_squared_error(target_actuals, model_output_1)\n",
    "\n",
    "# Print mse_0 and mse_1\n",
    "print(\"Mean squared error with weights_0: %f\" %mse_0)\n",
    "print(\"Mean squared error with weights_1: %f\" %mse_1)"
   ]
  },
  {
   "cell_type": "markdown",
   "metadata": {
    "colab_type": "text",
    "id": "Fyf9fuGOPgZL"
   },
   "source": [
    "<b> 7. Calculating slopes </b>\n",
    "\n",
    "You're now going to practice calculating slopes. When plotting the mean-squared error loss function against predictions, the slope is <b>2 \\* x \\* (y-xb)</b>, or <b>2 \\* input_data \\* error</b>. Note that x and b may have multiple numbers (x is a vector for each data point, and b is a vector). In this case, the output will also be a vector, which is exactly what you want.\n",
    "\n",
    "You're ready to write the code to calculate this slope while using a single data point. You'll use pre-defined weights called weights as well as data for a single point called input_data. The actual value of the target you want to predict is stored in target."
   ]
  },
  {
   "cell_type": "code",
   "execution_count": 0,
   "metadata": {
    "colab": {},
    "colab_type": "code",
    "id": "mLwy8HoAPgZM"
   },
   "outputs": [],
   "source": [
    "weights = np.array([0, 2, 1])\n",
    "input_data = np.array([1, 2, 3])\n",
    "target = 0"
   ]
  },
  {
   "cell_type": "markdown",
   "metadata": {
    "colab_type": "text",
    "id": "L7_W0bQxPgZO"
   },
   "source": [
    "Calculate the predictions, preds, by multiplying weights by the input_data and computing their sum."
   ]
  },
  {
   "cell_type": "code",
   "execution_count": 47,
   "metadata": {
    "colab": {
     "base_uri": "https://localhost:8080/",
     "height": 34
    },
    "colab_type": "code",
    "executionInfo": {
     "elapsed": 689,
     "status": "ok",
     "timestamp": 1550203003653,
     "user": {
      "displayName": "Maksat Nurtay",
      "photoUrl": "https://lh5.googleusercontent.com/-iQ0Feq6Zg84/AAAAAAAAAAI/AAAAAAAAAb0/7Gh5n1g_D70/s64/photo.jpg",
      "userId": "07625710187602729014"
     },
     "user_tz": -360
    },
    "id": "J4G8KTA1PgZQ",
    "outputId": "1ba16269-8a2f-4b57-b47a-71e644a3511a"
   },
   "outputs": [
    {
     "data": {
      "text/plain": [
       "7"
      ]
     },
     "execution_count": 47,
     "metadata": {
      "tags": []
     },
     "output_type": "execute_result"
    }
   ],
   "source": [
    "# Calculate the predictions: preds is a sum of multiplication of weights and input_data\n",
    "preds = (input_data * weights).sum()\n",
    "preds"
   ]
  },
  {
   "cell_type": "markdown",
   "metadata": {
    "colab_type": "text",
    "id": "bv0vLCmNPgZR"
   },
   "source": [
    "Calculate the error, which is target minus preds. Notice that this error corresponds to y-xb in the gradient expression."
   ]
  },
  {
   "cell_type": "code",
   "execution_count": 50,
   "metadata": {
    "colab": {
     "base_uri": "https://localhost:8080/",
     "height": 34
    },
    "colab_type": "code",
    "executionInfo": {
     "elapsed": 682,
     "status": "ok",
     "timestamp": 1550203066050,
     "user": {
      "displayName": "Maksat Nurtay",
      "photoUrl": "https://lh5.googleusercontent.com/-iQ0Feq6Zg84/AAAAAAAAAAI/AAAAAAAAAb0/7Gh5n1g_D70/s64/photo.jpg",
      "userId": "07625710187602729014"
     },
     "user_tz": -360
    },
    "id": "f1mIS-VZPgZR",
    "outputId": "d4072046-9c60-4366-9d7d-5b029f75ff10"
   },
   "outputs": [
    {
     "data": {
      "text/plain": [
       "-7"
      ]
     },
     "execution_count": 50,
     "metadata": {
      "tags": []
     },
     "output_type": "execute_result"
    }
   ],
   "source": [
    "# Calculate the error: error is a difference between target and preds\n",
    "error = target - preds\n",
    "error"
   ]
  },
  {
   "cell_type": "markdown",
   "metadata": {
    "colab_type": "text",
    "id": "ewKwnRMvPgZU"
   },
   "source": [
    "Calculate the slope of the loss function with respect to the prediction. To do this, you need to take the product of input_data and error and multiply that by 2."
   ]
  },
  {
   "cell_type": "code",
   "execution_count": 51,
   "metadata": {
    "colab": {
     "base_uri": "https://localhost:8080/",
     "height": 34
    },
    "colab_type": "code",
    "executionInfo": {
     "elapsed": 692,
     "status": "ok",
     "timestamp": 1550203070320,
     "user": {
      "displayName": "Maksat Nurtay",
      "photoUrl": "https://lh5.googleusercontent.com/-iQ0Feq6Zg84/AAAAAAAAAAI/AAAAAAAAAb0/7Gh5n1g_D70/s64/photo.jpg",
      "userId": "07625710187602729014"
     },
     "user_tz": -360
    },
    "id": "1GK4Ik9NPgZU",
    "outputId": "9c1dbbe0-f20c-429b-9ba5-c0c9606b3b27"
   },
   "outputs": [
    {
     "name": "stdout",
     "output_type": "stream",
     "text": [
      "[-14 -28 -42]\n"
     ]
    }
   ],
   "source": [
    "# Calculate the slope: slope\n",
    "slope = input_data * error * 2\n",
    "\n",
    "# Print the slope\n",
    "print(slope)"
   ]
  },
  {
   "cell_type": "markdown",
   "metadata": {
    "colab_type": "text",
    "id": "PLv7fEW7PgZY"
   },
   "source": [
    "<b> 8. Improving model weights </b>\n",
    "\n",
    "You've just calculated the slopes you need. Now it's time to use those slopes to improve your model. <br/>\n",
    "If you add the slopes to your weights, you will move in the right direction. <br/>\n",
    "However, it's possible to move too far in that direction.<br/>\n",
    "So you will want to take a small step in that direction first, using a lower learning rate, and verify that the model is improving.\n",
    "\n",
    "The weights have been pre-loaded as weights, the actual value of the target as target, and the input data as input_data.<br/>\n",
    "The predictions from the initial weights are stored as preds."
   ]
  },
  {
   "cell_type": "markdown",
   "metadata": {
    "colab_type": "text",
    "id": "epLz0tGLPgZY"
   },
   "source": [
    "Set the learning rate to be 0.01 and calculate the error from the original predictions."
   ]
  },
  {
   "cell_type": "code",
   "execution_count": 0,
   "metadata": {
    "colab": {},
    "colab_type": "code",
    "id": "sU_OcSTUPgZZ"
   },
   "outputs": [],
   "source": [
    "# Set the learning rate: learning_rate\n",
    "learning_rate = 0.01"
   ]
  },
  {
   "cell_type": "code",
   "execution_count": 0,
   "metadata": {
    "colab": {},
    "colab_type": "code",
    "id": "TIQ1ronJPgZb"
   },
   "outputs": [],
   "source": [
    "# Calculate the predictions: preds is a sum of multiplication of weights and input_data\n",
    "preds = (input_data * weights).sum()"
   ]
  },
  {
   "cell_type": "code",
   "execution_count": 66,
   "metadata": {
    "colab": {
     "base_uri": "https://localhost:8080/",
     "height": 34
    },
    "colab_type": "code",
    "executionInfo": {
     "elapsed": 669,
     "status": "ok",
     "timestamp": 1550203453306,
     "user": {
      "displayName": "Maksat Nurtay",
      "photoUrl": "https://lh5.googleusercontent.com/-iQ0Feq6Zg84/AAAAAAAAAAI/AAAAAAAAAb0/7Gh5n1g_D70/s64/photo.jpg",
      "userId": "07625710187602729014"
     },
     "user_tz": -360
    },
    "id": "c_jKuyYdPgZd",
    "outputId": "f39c2a94-02d9-482f-a99e-f38f05a35060"
   },
   "outputs": [
    {
     "data": {
      "text/plain": [
       "7"
      ]
     },
     "execution_count": 66,
     "metadata": {
      "tags": []
     },
     "output_type": "execute_result"
    }
   ],
   "source": [
    "# Calculate the error: error is a difference between target and preds\n",
    "error =  preds-target\n",
    "error"
   ]
  },
  {
   "cell_type": "code",
   "execution_count": 67,
   "metadata": {
    "colab": {
     "base_uri": "https://localhost:8080/",
     "height": 34
    },
    "colab_type": "code",
    "executionInfo": {
     "elapsed": 1020,
     "status": "ok",
     "timestamp": 1550203455404,
     "user": {
      "displayName": "Maksat Nurtay",
      "photoUrl": "https://lh5.googleusercontent.com/-iQ0Feq6Zg84/AAAAAAAAAAI/AAAAAAAAAb0/7Gh5n1g_D70/s64/photo.jpg",
      "userId": "07625710187602729014"
     },
     "user_tz": -360
    },
    "id": "RM0D9WGAPgZl",
    "outputId": "94ae60c1-851c-4959-a0dd-e5ab42e3faf3"
   },
   "outputs": [
    {
     "data": {
      "text/plain": [
       "array([14, 28, 42])"
      ]
     },
     "execution_count": 67,
     "metadata": {
      "tags": []
     },
     "output_type": "execute_result"
    }
   ],
   "source": [
    "# Calculate the slope as you did before\n",
    "slope = input_data * error * 2\n",
    "slope"
   ]
  },
  {
   "cell_type": "markdown",
   "metadata": {
    "colab_type": "text",
    "id": "dysGLyOjPgZn"
   },
   "source": [
    "Calculate the updated weights by subtracting the product of learning_rate and slope from weights."
   ]
  },
  {
   "cell_type": "code",
   "execution_count": 68,
   "metadata": {
    "colab": {
     "base_uri": "https://localhost:8080/",
     "height": 34
    },
    "colab_type": "code",
    "executionInfo": {
     "elapsed": 692,
     "status": "ok",
     "timestamp": 1550203457793,
     "user": {
      "displayName": "Maksat Nurtay",
      "photoUrl": "https://lh5.googleusercontent.com/-iQ0Feq6Zg84/AAAAAAAAAAI/AAAAAAAAAb0/7Gh5n1g_D70/s64/photo.jpg",
      "userId": "07625710187602729014"
     },
     "user_tz": -360
    },
    "id": "9-mfQrCBPgZo",
    "outputId": "b21ae1d1-0205-41d6-b5e8-72fcf2b8f537"
   },
   "outputs": [
    {
     "data": {
      "text/plain": [
       "array([-0.14,  1.72,  0.58])"
      ]
     },
     "execution_count": 68,
     "metadata": {
      "tags": []
     },
     "output_type": "execute_result"
    }
   ],
   "source": [
    "# Update the weights: weights_updated\n",
    "weights_updated = weights - (learning_rate * slope)\n",
    "weights_updated"
   ]
  },
  {
   "cell_type": "markdown",
   "metadata": {
    "colab_type": "text",
    "id": "wbvX9k_WPgZr"
   },
   "source": [
    "Calculate the updated predictions by multiplying weights_updated with input_data and computing their sum."
   ]
  },
  {
   "cell_type": "code",
   "execution_count": 69,
   "metadata": {
    "colab": {
     "base_uri": "https://localhost:8080/",
     "height": 34
    },
    "colab_type": "code",
    "executionInfo": {
     "elapsed": 679,
     "status": "ok",
     "timestamp": 1550203461182,
     "user": {
      "displayName": "Maksat Nurtay",
      "photoUrl": "https://lh5.googleusercontent.com/-iQ0Feq6Zg84/AAAAAAAAAAI/AAAAAAAAAb0/7Gh5n1g_D70/s64/photo.jpg",
      "userId": "07625710187602729014"
     },
     "user_tz": -360
    },
    "id": "Y0ezx2wjPgZr",
    "outputId": "c1059333-bc9e-47fc-8f83-41690fc2090c"
   },
   "outputs": [
    {
     "data": {
      "text/plain": [
       "5.04"
      ]
     },
     "execution_count": 69,
     "metadata": {
      "tags": []
     },
     "output_type": "execute_result"
    }
   ],
   "source": [
    "# Get updated predictions: preds_updated\n",
    "preds_updated = (input_data * weights_updated).sum()\n",
    "preds_updated"
   ]
  },
  {
   "cell_type": "markdown",
   "metadata": {
    "colab_type": "text",
    "id": "VchuuTNOPgZu"
   },
   "source": [
    "Calculate the error for the new predictions. Store the result as error_updated"
   ]
  },
  {
   "cell_type": "code",
   "execution_count": 0,
   "metadata": {
    "colab": {},
    "colab_type": "code",
    "id": "Ioh8Hh8_PgZu"
   },
   "outputs": [],
   "source": [
    "# Calculate updated error: error_updated is a difference between preds_updated and target\n",
    "error_updated = preds_updated - target"
   ]
  },
  {
   "cell_type": "code",
   "execution_count": 71,
   "metadata": {
    "colab": {
     "base_uri": "https://localhost:8080/",
     "height": 51
    },
    "colab_type": "code",
    "executionInfo": {
     "elapsed": 679,
     "status": "ok",
     "timestamp": 1550203466358,
     "user": {
      "displayName": "Maksat Nurtay",
      "photoUrl": "https://lh5.googleusercontent.com/-iQ0Feq6Zg84/AAAAAAAAAAI/AAAAAAAAAb0/7Gh5n1g_D70/s64/photo.jpg",
      "userId": "07625710187602729014"
     },
     "user_tz": -360
    },
    "id": "WDeLXrkRPgZv",
    "outputId": "b687a242-30af-439b-fe58-04866c8d148d"
   },
   "outputs": [
    {
     "name": "stdout",
     "output_type": "stream",
     "text": [
      "the original error  7\n",
      "the updated error  5.04\n"
     ]
    }
   ],
   "source": [
    "# Print the original error\n",
    "print('the original error ',error)\n",
    "\n",
    "# Print the updated error\n",
    "print('the updated error ',error_updated)"
   ]
  },
  {
   "cell_type": "markdown",
   "metadata": {
    "colab_type": "text",
    "id": "F7Ylsz9QPgZy"
   },
   "source": [
    "<b>9. Making multiple updates to weights</b>\n",
    "\n",
    "You're now going to make multiple updates so you can dramatically improve your model weights, and see how the predictions improve with each update.\n",
    "\n",
    "To keep your code clean, there is a pre-loaded get_slope() function that takes input_data, target, and weights as arguments. There is also a get_mse() function that takes the same arguments. The input_data, target, and weights have been pre-loaded.\n",
    "\n",
    "This network does not have any hidden layers, and it goes directly from the input (with 3 nodes) to an output node. Note that weights is a single array.\n",
    "\n",
    "We have also pre-loaded matplotlib.pyplot, and the error history will be plotted after you have done your gradient descent steps."
   ]
  },
  {
   "cell_type": "code",
   "execution_count": 0,
   "metadata": {
    "colab": {},
    "colab_type": "code",
    "id": "VrfDdbfpPgZz"
   },
   "outputs": [],
   "source": [
    "weights = [-0.49999902,  1.00000196, -0.49999705]"
   ]
  },
  {
   "cell_type": "code",
   "execution_count": 0,
   "metadata": {
    "colab": {},
    "colab_type": "code",
    "id": "lzDX_JrGPgZ1"
   },
   "outputs": [],
   "source": [
    "def get_slope(input_data, target, weights):\n",
    "    # Calculate the slope: slope\n",
    "    # Calculate the error: error\n",
    "    preds = (weights * input_data).sum()\n",
    "    error = preds - target\n",
    "    slope = 2 * input_data * error\n",
    "    return slope"
   ]
  },
  {
   "cell_type": "code",
   "execution_count": 0,
   "metadata": {
    "colab": {},
    "colab_type": "code",
    "id": "oFRRMOeyPgZ3"
   },
   "outputs": [],
   "source": [
    "def get_error(input_data, target, weights):\n",
    "    preds = (input_data * weights).sum()\n",
    "    error = preds - target\n",
    "    return(error)"
   ]
  },
  {
   "cell_type": "code",
   "execution_count": 0,
   "metadata": {
    "colab": {},
    "colab_type": "code",
    "id": "eH8ku5KvPgZ4"
   },
   "outputs": [],
   "source": [
    "def get_mse(input_data, target, weights):\n",
    "    errors = get_error(input_data, target, weights)\n",
    "    mse = np.mean(errors**2) # here you want to find a mean of squared errors\n",
    "    return(mse)"
   ]
  },
  {
   "cell_type": "code",
   "execution_count": 0,
   "metadata": {
    "colab": {},
    "colab_type": "code",
    "id": "FVrMcMsKPgZ9"
   },
   "outputs": [],
   "source": [
    "import matplotlib.pyplot as plt"
   ]
  },
  {
   "cell_type": "markdown",
   "metadata": {
    "colab_type": "text",
    "id": "37od1xWEPgZ_"
   },
   "source": [
    "Using a for loop to iteratively update weights for 20 times:\n",
    " - Calculate the slope using the get_slope() function.\n",
    " - Update the weights using a learning rate of 0.01.\n",
    " - Calculate the mean squared error (mse) with the updated weights using the get_mse() function.\n",
    " - Append mse to mse_hist."
   ]
  },
  {
   "cell_type": "code",
   "execution_count": 78,
   "metadata": {
    "colab": {
     "base_uri": "https://localhost:8080/",
     "height": 372
    },
    "colab_type": "code",
    "executionInfo": {
     "elapsed": 688,
     "status": "ok",
     "timestamp": 1550204004243,
     "user": {
      "displayName": "Maksat Nurtay",
      "photoUrl": "https://lh5.googleusercontent.com/-iQ0Feq6Zg84/AAAAAAAAAAI/AAAAAAAAAb0/7Gh5n1g_D70/s64/photo.jpg",
      "userId": "07625710187602729014"
     },
     "user_tz": -360
    },
    "id": "QG4qVt5IPgZ_",
    "outputId": "b2eaeac3-cd34-4ae1-f07e-c581b5d30dce"
   },
   "outputs": [
    {
     "data": {
      "image/png": "[encoded data removed]",
      "text/plain": [
       "<Figure size 576x396 with 1 Axes>"
      ]
     },
     "metadata": {
      "tags": []
     },
     "output_type": "display_data"
    }
   ],
   "source": [
    "n_updates = 20\n",
    "# make an empty list called mse_hist\n",
    "mse_hist=[]\n",
    "learning_rate = 0.01\n",
    "# Iterate over the number of updates\n",
    "for i in range(n_updates):\n",
    "    # Calculate the slope: slope\n",
    "    slope = get_slope(input_data, target, weights)\n",
    "\n",
    "    # Update the weights: weights\n",
    "    weights = weights - (learning_rate * slope)\n",
    "    \n",
    "    # Calculate mse with new weights: mse\n",
    "    mse = get_mse(input_data, target, weights)\n",
    "    \n",
    "    # Append the mse to mse_hist\n",
    "    mse_hist.append(mse)\n",
    "\n",
    "\n",
    "# Plot the mse history\n",
    "plt.plot(mse_hist)\n",
    "plt.xlabel('Iterations')\n",
    "plt.ylabel('Mean Squared Error')\n",
    "plt.show()"
   ]
  },
  {
   "cell_type": "code",
   "execution_count": 0,
   "metadata": {
    "colab": {},
    "colab_type": "code",
    "id": "Pir3Fw8NPgaB"
   },
   "outputs": [],
   "source": []
  },
  {
   "cell_type": "code",
   "execution_count": 0,
   "metadata": {
    "colab": {},
    "colab_type": "code",
    "id": "dk5GWlyoPgaD"
   },
   "outputs": [],
   "source": []
  }
 ],
 "metadata": {
  "colab": {
   "collapsed_sections": [],
   "name": "DL_lab_2.ipynb",
   "provenance": [],
   "version": "0.3.2"
  },
  "kernelspec": {
   "display_name": "Python 3",
   "language": "python",
   "name": "python3"
  },
  "language_info": {
   "codemirror_mode": {
    "name": "ipython",
    "version": 3
   },
   "file_extension": ".py",
   "mimetype": "text/x-python",
   "name": "python",
   "nbconvert_exporter": "python",
   "pygments_lexer": "ipython3",
   "version": "3.7.3"
  }
 },
 "nbformat": 4,
 "nbformat_minor": 1
}

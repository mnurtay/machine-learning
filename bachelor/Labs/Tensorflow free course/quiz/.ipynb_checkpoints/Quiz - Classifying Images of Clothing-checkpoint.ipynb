{
 "cells": [
  {
   "cell_type": "code",
   "execution_count": 1,
   "metadata": {},
   "outputs": [],
   "source": [
    "# Author: Nurtai Maksat\n",
    "# Group: CSSE-1605\n",
    "import tensorflow as tf\n",
    "import tensorflow_datasets as tf_ds\n",
    "from tensorflow.keras import Sequential\n",
    "from tensorflow.keras.layers import Dense, Flatten\n",
    "\n",
    "import math\n",
    "import numpy as np\n",
    "import matplotlib.pyplot as plt"
   ]
  },
  {
   "cell_type": "code",
   "execution_count": 21,
   "metadata": {},
   "outputs": [],
   "source": [
    "class Clothing:\n",
    "    def __init__(self):\n",
    "        self.dataset  = None\n",
    "        self.metadata = None\n",
    "        self.train_dataset = None\n",
    "        self.test_dataset  = None\n",
    "        self.__model = None\n",
    "        self.prediction = None\n",
    "        self.BATCH_SIZE = 64\n",
    "        self.class_names = ['T-shirt/top','Trouser','Pullover','Dress','Coat',\n",
    "                            'Sandal','Shirt','Sneaker','Bag','Ankle boot']\n",
    "        # Loading Dataset\n",
    "        self.__load_dataset()\n",
    "        # Normalizing Dataset to the range [0, 1]\n",
    "        self.train_dataset = self.train_dataset.map(self.__normalize_dataset)\n",
    "        self.test_dataset  = self.test_dataset.map(self.__normalize_dataset)\n",
    "    \n",
    "    def __load_dataset(self):\n",
    "        dataset, metadata  = tf_ds.load('fashion_mnist', as_supervised=True, with_info=True)\n",
    "        self.train_dataset = dataset['train']\n",
    "        self.test_dataset  = dataset['test']\n",
    "        self.train_size = metadata.splits['train'].num_examples\n",
    "        self.test_size = metadata.splits['test'].num_examples\n",
    "    \n",
    "    def __normalize_dataset(self, image, label):\n",
    "        image = tf.cast(image, tf.float32) / 255\n",
    "        return image, label\n",
    "    \n",
    "    def train(self):\n",
    "        print('>> TRAINING MODEL')\n",
    "        # Initializing model\n",
    "        self.__model = Sequential([\n",
    "            Flatten(input_shape=(28,28,1)),\n",
    "            Dense(256, activation = tf.nn.relu),\n",
    "            Dense(128, activation = tf.nn.relu),\n",
    "            Dense(10,  activation = tf.nn.softmax)\n",
    "        ])\n",
    "        self.__model.compile(optimizer='adam',\n",
    "                             loss='sparse_categorical_crossentropy',\n",
    "                             metrics=['accuracy'])\n",
    "        self.train_dataset = self.train_dataset.repeat().shuffle(self.train_size).batch(self.BATCH_SIZE)\n",
    "        self.test_dataset = self.test_dataset.batch(self.BATCH_SIZE)\n",
    "        # Fitting model\n",
    "        self.__model.fit(self.train_dataset,\n",
    "                        epochs=5,\n",
    "                        steps_per_epoch=math.ceil(self.train_size/self.BATCH_SIZE))\n",
    "        loss, accuracy = self.__model.evaluate(self.test_dataset,\n",
    "                                               steps=math.ceil(self.test_size/self.BATCH_SIZE))\n",
    "        print(\"\\nAccuracy\",accuracy,\"and loss\",loss,\"on test dataset\")\n",
    "    \n",
    "    def predict(self):\n",
    "        print(\">> PREDICTING\")\n",
    "        for test_img, test_label in self.test_dataset.take(1):\n",
    "            self.test_img = test_img.numpy()\n",
    "            self.test_label = test_label.numpy()\n",
    "            self.prediction = self.__model.predict(test_img)\n",
    "            print(\"Prediction shape \", self.prediction.shape)\n",
    "    \n",
    "    def __plot_img(self, index, predictions, true_label, image):\n",
    "        predictions_array, true_label, img = predictions_array[i], true_labels[i], images[i]\n",
    "        plt.grid(False)\n",
    "        plt.xticks([])\n",
    "        plt.yticks([])\n",
    "\n",
    "        plt.imshow(img[...,0], cmap=plt.cm.binary)\n",
    "\n",
    "        predicted_label = np.argmax(predictions_array)\n",
    "        if predicted_label == true_label:\n",
    "            color = 'blue'\n",
    "        else:\n",
    "            color = 'red'\n",
    "\n",
    "        plt.xlabel(\"{} {:2.0f}% ({})\".format(class_names[predicted_label],\n",
    "                                    100*np.max(predictions_array),\n",
    "                                    class_names[true_label]),\n",
    "                                    color=color)\n",
    "        \n",
    "    def __plot_value(self, index, predictions, true_label):\n",
    "        predictions_array, true_label = predictions_array[i], true_label[i]\n",
    "        plt.grid(False)\n",
    "        plt.xticks([])\n",
    "        plt.yticks([])\n",
    "        thisplot = plt.bar(range(10), predictions_array, color=\"#777777\")\n",
    "        plt.ylim([0, 1]) \n",
    "        predicted_label = np.argmax(predictions_array)\n",
    "\n",
    "        thisplot[predicted_label].set_color('red')\n",
    "        thisplot[true_label].set_color('blue')\n",
    "    \n",
    "    def plot_result(self):\n",
    "        columns, rows = 4, 5\n",
    "        num_img = columns * rows\n",
    "        plt.figure(figsize=(2*2*columns, 2*rows))\n",
    "        for i in range(num_img):\n",
    "            plt.subplot(rows, 2*columns, 2*i+1)\n",
    "            self.__plot_img(i, self.prediction, self.test_label, self.test_img)\n",
    "            plt.subplot(rows, 2*columns, 2*i+1)\n",
    "            self.__plot_value(i, self.prediction, self.test_label)"
   ]
  },
  {
   "cell_type": "code",
   "execution_count": 22,
   "metadata": {},
   "outputs": [
    {
     "name": "stdout",
     "output_type": "stream",
     "text": [
      ">> TRAINING MODEL\n",
      "Epoch 1/5\n",
      "938/938 [==============================] - 38s 40ms/step - loss: 0.4780 - accuracy: 0.8300\n",
      "Epoch 2/5\n",
      "938/938 [==============================] - 27s 29ms/step - loss: 0.3484 - accuracy: 0.8732\n",
      "Epoch 3/5\n",
      "938/938 [==============================] - 28s 30ms/step - loss: 0.3204 - accuracy: 0.8819\n",
      "Epoch 4/5\n",
      "938/938 [==============================] - 28s 29ms/step - loss: 0.2931 - accuracy: 0.8911\n",
      "Epoch 5/5\n",
      "938/938 [==============================] - 28s 30ms/step - loss: 0.2827 - accuracy: 0.8961\n",
      "157/157 [==============================] - 4s 23ms/step - loss: 0.3298 - accuracy: 0.8821\n",
      "Accuracy 0.8821 and loss 0.3298289162717807 on test dataset\n"
     ]
    }
   ],
   "source": [
    "classify = Clothing()\n",
    "classify.train()"
   ]
  },
  {
   "cell_type": "code",
   "execution_count": 23,
   "metadata": {},
   "outputs": [
    {
     "name": "stdout",
     "output_type": "stream",
     "text": [
      ">> PREDICTING\n",
      "Prediction shape  (64, 10)\n"
     ]
    }
   ],
   "source": [
    "classify.predict()"
   ]
  },
  {
   "cell_type": "code",
   "execution_count": 24,
   "metadata": {},
   "outputs": [
    {
     "ename": "UnboundLocalError",
     "evalue": "local variable 'predictions_array' referenced before assignment",
     "output_type": "error",
     "traceback": [
      "\u001b[0;31m---------------------------------------------------------------------------\u001b[0m",
      "\u001b[0;31mUnboundLocalError\u001b[0m                         Traceback (most recent call last)",
      "\u001b[0;32m<ipython-input-24-de69242e1b4d>\u001b[0m in \u001b[0;36m<module>\u001b[0;34m\u001b[0m\n\u001b[0;32m----> 1\u001b[0;31m \u001b[0mclassify\u001b[0m\u001b[0;34m.\u001b[0m\u001b[0mplot_result\u001b[0m\u001b[0;34m(\u001b[0m\u001b[0;34m)\u001b[0m\u001b[0;34m\u001b[0m\u001b[0;34m\u001b[0m\u001b[0m\n\u001b[0m",
      "\u001b[0;32m<ipython-input-21-e3ecb8f7a990>\u001b[0m in \u001b[0;36mplot_result\u001b[0;34m(self)\u001b[0m\n\u001b[1;32m     94\u001b[0m         \u001b[0;32mfor\u001b[0m \u001b[0mi\u001b[0m \u001b[0;32min\u001b[0m \u001b[0mrange\u001b[0m\u001b[0;34m(\u001b[0m\u001b[0mnum_img\u001b[0m\u001b[0;34m)\u001b[0m\u001b[0;34m:\u001b[0m\u001b[0;34m\u001b[0m\u001b[0;34m\u001b[0m\u001b[0m\n\u001b[1;32m     95\u001b[0m             \u001b[0mplt\u001b[0m\u001b[0;34m.\u001b[0m\u001b[0msubplot\u001b[0m\u001b[0;34m(\u001b[0m\u001b[0mrows\u001b[0m\u001b[0;34m,\u001b[0m \u001b[0;36m2\u001b[0m\u001b[0;34m*\u001b[0m\u001b[0mcolumns\u001b[0m\u001b[0;34m,\u001b[0m \u001b[0;36m2\u001b[0m\u001b[0;34m*\u001b[0m\u001b[0mi\u001b[0m\u001b[0;34m+\u001b[0m\u001b[0;36m1\u001b[0m\u001b[0;34m)\u001b[0m\u001b[0;34m\u001b[0m\u001b[0;34m\u001b[0m\u001b[0m\n\u001b[0;32m---> 96\u001b[0;31m             \u001b[0mself\u001b[0m\u001b[0;34m.\u001b[0m\u001b[0m__plot_img\u001b[0m\u001b[0;34m(\u001b[0m\u001b[0mi\u001b[0m\u001b[0;34m,\u001b[0m \u001b[0mself\u001b[0m\u001b[0;34m.\u001b[0m\u001b[0mprediction\u001b[0m\u001b[0;34m,\u001b[0m \u001b[0mself\u001b[0m\u001b[0;34m.\u001b[0m\u001b[0mtest_label\u001b[0m\u001b[0;34m,\u001b[0m \u001b[0mself\u001b[0m\u001b[0;34m.\u001b[0m\u001b[0mtest_img\u001b[0m\u001b[0;34m)\u001b[0m\u001b[0;34m\u001b[0m\u001b[0;34m\u001b[0m\u001b[0m\n\u001b[0m\u001b[1;32m     97\u001b[0m             \u001b[0mplt\u001b[0m\u001b[0;34m.\u001b[0m\u001b[0msubplot\u001b[0m\u001b[0;34m(\u001b[0m\u001b[0mrows\u001b[0m\u001b[0;34m,\u001b[0m \u001b[0;36m2\u001b[0m\u001b[0;34m*\u001b[0m\u001b[0mcolumns\u001b[0m\u001b[0;34m,\u001b[0m \u001b[0;36m2\u001b[0m\u001b[0;34m*\u001b[0m\u001b[0mi\u001b[0m\u001b[0;34m+\u001b[0m\u001b[0;36m1\u001b[0m\u001b[0;34m)\u001b[0m\u001b[0;34m\u001b[0m\u001b[0;34m\u001b[0m\u001b[0m\n\u001b[1;32m     98\u001b[0m             \u001b[0mself\u001b[0m\u001b[0;34m.\u001b[0m\u001b[0m__plot_value\u001b[0m\u001b[0;34m(\u001b[0m\u001b[0mi\u001b[0m\u001b[0;34m,\u001b[0m \u001b[0mself\u001b[0m\u001b[0;34m.\u001b[0m\u001b[0mprediction\u001b[0m\u001b[0;34m,\u001b[0m \u001b[0mself\u001b[0m\u001b[0;34m.\u001b[0m\u001b[0mtest_label\u001b[0m\u001b[0;34m)\u001b[0m\u001b[0;34m\u001b[0m\u001b[0;34m\u001b[0m\u001b[0m\n",
      "\u001b[0;32m<ipython-input-21-e3ecb8f7a990>\u001b[0m in \u001b[0;36m__plot_img\u001b[0;34m(self, index, predictions, true_label, image)\u001b[0m\n\u001b[1;32m     58\u001b[0m \u001b[0;34m\u001b[0m\u001b[0m\n\u001b[1;32m     59\u001b[0m     \u001b[0;32mdef\u001b[0m \u001b[0m__plot_img\u001b[0m\u001b[0;34m(\u001b[0m\u001b[0mself\u001b[0m\u001b[0;34m,\u001b[0m \u001b[0mindex\u001b[0m\u001b[0;34m,\u001b[0m \u001b[0mpredictions\u001b[0m\u001b[0;34m,\u001b[0m \u001b[0mtrue_label\u001b[0m\u001b[0;34m,\u001b[0m \u001b[0mimage\u001b[0m\u001b[0;34m)\u001b[0m\u001b[0;34m:\u001b[0m\u001b[0;34m\u001b[0m\u001b[0;34m\u001b[0m\u001b[0m\n\u001b[0;32m---> 60\u001b[0;31m         \u001b[0mpredictions_array\u001b[0m\u001b[0;34m,\u001b[0m \u001b[0mtrue_label\u001b[0m\u001b[0;34m,\u001b[0m \u001b[0mimg\u001b[0m \u001b[0;34m=\u001b[0m \u001b[0mpredictions_array\u001b[0m\u001b[0;34m[\u001b[0m\u001b[0mi\u001b[0m\u001b[0;34m]\u001b[0m\u001b[0;34m,\u001b[0m \u001b[0mtrue_labels\u001b[0m\u001b[0;34m[\u001b[0m\u001b[0mi\u001b[0m\u001b[0;34m]\u001b[0m\u001b[0;34m,\u001b[0m \u001b[0mimages\u001b[0m\u001b[0;34m[\u001b[0m\u001b[0mi\u001b[0m\u001b[0;34m]\u001b[0m\u001b[0;34m\u001b[0m\u001b[0;34m\u001b[0m\u001b[0m\n\u001b[0m\u001b[1;32m     61\u001b[0m         \u001b[0mplt\u001b[0m\u001b[0;34m.\u001b[0m\u001b[0mgrid\u001b[0m\u001b[0;34m(\u001b[0m\u001b[0;32mFalse\u001b[0m\u001b[0;34m)\u001b[0m\u001b[0;34m\u001b[0m\u001b[0;34m\u001b[0m\u001b[0m\n\u001b[1;32m     62\u001b[0m         \u001b[0mplt\u001b[0m\u001b[0;34m.\u001b[0m\u001b[0mxticks\u001b[0m\u001b[0;34m(\u001b[0m\u001b[0;34m[\u001b[0m\u001b[0;34m]\u001b[0m\u001b[0;34m)\u001b[0m\u001b[0;34m\u001b[0m\u001b[0;34m\u001b[0m\u001b[0m\n",
      "\u001b[0;31mUnboundLocalError\u001b[0m: local variable 'predictions_array' referenced before assignment"
     ]
    },
    {
     "data": {
      "image/png": "[encoded data removed]",
      "text/plain": [
       "<Figure size 1152x720 with 1 Axes>"
      ]
     },
     "metadata": {
      "needs_background": "light"
     },
     "output_type": "display_data"
    }
   ],
   "source": [
    "classify.plot_result()"
   ]
  },
  {
   "cell_type": "code",
   "execution_count": null,
   "metadata": {},
   "outputs": [],
   "source": []
  }
 ],
 "metadata": {
  "kernelspec": {
   "display_name": "Python 3",
   "language": "python",
   "name": "python3"
  },
  "language_info": {
   "codemirror_mode": {
    "name": "ipython",
    "version": 3
   },
   "file_extension": ".py",
   "mimetype": "text/x-python",
   "name": "python",
   "nbconvert_exporter": "python",
   "pygments_lexer": "ipython3",
   "version": "3.7.3"
  }
 },
 "nbformat": 4,
 "nbformat_minor": 2
}

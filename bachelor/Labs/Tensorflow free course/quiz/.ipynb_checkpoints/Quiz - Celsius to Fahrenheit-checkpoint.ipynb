{
 "cells": [
  {
   "cell_type": "code",
   "execution_count": 0,
   "metadata": {
    "colab": {},
    "colab_type": "code",
    "id": "rA9-N1C9qM_-"
   },
   "outputs": [],
   "source": [
    "# Author: Nurtai Maksat\n",
    "# Group: CSSE-1605\n",
    "# import tensorflow as tf\n",
    "from tensorflow.keras.layers import Dense\n",
    "from tensorflow.keras.models import Sequential\n",
    "from tensorflow.keras.optimizers import Adam\n",
    "import matplotlib.pyplot as plt\n",
    "import numpy as np"
   ]
  },
  {
   "cell_type": "code",
   "execution_count": 0,
   "metadata": {
    "colab": {},
    "colab_type": "code",
    "id": "QsIvLbsNqZww"
   },
   "outputs": [],
   "source": [
    "class Model:\n",
    "  def __init__(self):\n",
    "    self.celsius = []\n",
    "    self.fahrnheit = []\n",
    "    self.M = None\n",
    "    self.history = None\n",
    "    \n",
    "  def generateExamples(self):\n",
    "    count = 50\n",
    "    celsius = -40\n",
    "    while count>0:\n",
    "      fahrnheit = celsius*1.8 + 32\n",
    "      self.celsius.append(celsius)\n",
    "      self.fahrnheit.append(fahrnheit)\n",
    "      celsius += 7\n",
    "      count -= 1\n",
    "    self.celsius = np.array(self.celsius, dtype=float)\n",
    "    self.fahrnheit = np.array(self.fahrnheit, dtype=float)\n",
    "   \n",
    "  def train(self):\n",
    "    l1 = Dense(units=5, input_shape=[1])\n",
    "    l2 = Dense(units=5)\n",
    "    l3 = Dense(units=3)\n",
    "    l4 = Dense(units=1)\n",
    "    self.M = Sequential([l1, l2, l3, l4])\n",
    "    self.M.compile(loss='mean_squared_error', optimizer=Adam(0.1))\n",
    "    self.history = self.M.fit(self.celsius, self.fahrnheit, epochs=333, verbose=False)\n",
    "  \n",
    "  def plot(self):\n",
    "    plt.xlabel('Epoch')\n",
    "    plt.ylabel(\"Loss\")\n",
    "    plt.plot(self.history.history['loss'])\n",
    "    plt.show()\n",
    "\n",
    "  def predict(self, test):\n",
    "    predicted = self.M.predict([test])\n",
    "    print(\"Predicted value is\",predicted)\n",
    "    print(\"Actual value is\", test*1.8+32)"
   ]
  },
  {
   "cell_type": "code",
   "execution_count": 21,
   "metadata": {
    "colab": {
     "base_uri": "https://localhost:8080/",
     "height": 650
    },
    "colab_type": "code",
    "executionInfo": {
     "elapsed": 5196,
     "status": "ok",
     "timestamp": 1554439030198,
     "user": {
      "displayName": "Maksat Nurtay",
      "photoUrl": "https://lh5.googleusercontent.com/-iQ0Feq6Zg84/AAAAAAAAAAI/AAAAAAAACaY/Kuxohr4SzZ4/s64/photo.jpg",
      "userId": "07625710187602729014"
     },
     "user_tz": -360
    },
    "id": "l3Tkoo2LqsFX",
    "outputId": "482bc34c-c1e4-4533-f478-ba2d9ac56962"
   },
   "outputs": [
    {
     "data": {
      "image/png": "[encoded data removed]",
      "text/plain": [
       "<Figure size 576x396 with 1 Axes>"
      ]
     },
     "metadata": {
      "tags": []
     },
     "output_type": "display_data"
    },
    {
     "name": "stdout",
     "output_type": "stream",
     "text": [
      "Predicted value is [[311.00006]]\n",
      "Actual value is 311.0\n",
      "_________________________________________________________________\n",
      "Layer (type)                 Output Shape              Param #   \n",
      "=================================================================\n",
      "dense_28 (Dense)             (None, 5)                 10        \n",
      "_________________________________________________________________\n",
      "dense_29 (Dense)             (None, 5)                 30        \n",
      "_________________________________________________________________\n",
      "dense_30 (Dense)             (None, 3)                 18        \n",
      "_________________________________________________________________\n",
      "dense_31 (Dense)             (None, 1)                 4         \n",
      "=================================================================\n",
      "Total params: 62\n",
      "Trainable params: 62\n",
      "Non-trainable params: 0\n",
      "_________________________________________________________________\n"
     ]
    }
   ],
   "source": [
    "model = Model()\n",
    "model.generateExamples()\n",
    "model.train()\n",
    "model.plot()\n",
    "model.predict(155)\n",
    "model.M.summary()"
   ]
  },
  {
   "cell_type": "code",
   "execution_count": 0,
   "metadata": {
    "colab": {},
    "colab_type": "code",
    "id": "WyxM1CRwsQrl"
   },
   "outputs": [],
   "source": []
  }
 ],
 "metadata": {
  "accelerator": "GPU",
  "colab": {
   "collapsed_sections": [],
   "name": "Udacity course L2.ipynb",
   "provenance": [],
   "version": "0.3.2"
  },
  "kernelspec": {
   "display_name": "Python 3",
   "language": "python",
   "name": "python3"
  },
  "language_info": {
   "codemirror_mode": {
    "name": "ipython",
    "version": 3
   },
   "file_extension": ".py",
   "mimetype": "text/x-python",
   "name": "python",
   "nbconvert_exporter": "python",
   "pygments_lexer": "ipython3",
   "version": "3.7.3"
  }
 },
 "nbformat": 4,
 "nbformat_minor": 1
}
